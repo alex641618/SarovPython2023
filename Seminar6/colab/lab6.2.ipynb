{
  "nbformat": 4,
  "nbformat_minor": 0,
  "metadata": {
    "colab": {
      "provenance": []
    },
    "kernelspec": {
      "name": "python3",
      "display_name": "Python 3"
    },
    "language_info": {
      "name": "python"
    }
  },
  "cells": [
    {
      "cell_type": "code",
      "execution_count": null,
      "metadata": {
        "id": "smyBJAoKh26N"
      },
      "outputs": [],
      "source": [
        "import numpy as np\n",
        "import numba\n",
        "from numba import njit"
      ]
    },
    {
      "cell_type": "code",
      "source": [
        "@njit(parallel=True)\n",
        "def monte_carlo_pi(n = 1000):\n",
        "    res = 0\n",
        "    for i in numba.prange(n):\n",
        "        x = np.random.rand()\n",
        "        y = np.random.rand()\n",
        "        if (x**2 + y**2)<1:\n",
        "            res = res + 1\n",
        "    return 4 * res/n"
      ],
      "metadata": {
        "id": "oDg7vGL_iNuU"
      },
      "execution_count": null,
      "outputs": []
    },
    {
      "cell_type": "code",
      "source": [
        "%%timeit\n",
        "monte_carlo_pi(100000)"
      ],
      "metadata": {
        "colab": {
          "base_uri": "https://localhost:8080/"
        },
        "id": "SwlJxIqvishm",
        "outputId": "ed6c8934-2d15-4922-b7b0-75be23880d46"
      },
      "execution_count": null,
      "outputs": [
        {
          "output_type": "stream",
          "name": "stdout",
          "text": [
            "1.5 ms ± 278 µs per loop (mean ± std. dev. of 7 runs, 1000 loops each)\n"
          ]
        }
      ]
    },
    {
      "cell_type": "code",
      "source": [
        "monte_carlo_pi(100000)"
      ],
      "metadata": {
        "colab": {
          "base_uri": "https://localhost:8080/"
        },
        "id": "wRZdTQ6vixbY",
        "outputId": "f257d8b0-8cf2-4d5c-e4c8-79335411e2c3"
      },
      "execution_count": null,
      "outputs": [
        {
          "output_type": "execute_result",
          "data": {
            "text/plain": [
              "3.13964"
            ]
          },
          "metadata": {},
          "execution_count": 15
        }
      ]
    },
    {
      "cell_type": "code",
      "source": [],
      "metadata": {
        "id": "fG5vFU5QjaH5"
      },
      "execution_count": null,
      "outputs": []
    }
  ]
}