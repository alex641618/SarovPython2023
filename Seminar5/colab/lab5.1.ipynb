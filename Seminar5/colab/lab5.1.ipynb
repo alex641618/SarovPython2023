{
  "cells": [
    {
      "cell_type": "markdown",
      "metadata": {
        "id": "6POUZf33PgVx"
      },
      "source": [
        "The first step is always to find the bottlenecks in your code, via _profiling_: analyzing your code by measuring the execution time of its parts.\n",
        "\n",
        "\n",
        "Tools:\n",
        "------\n",
        "\n",
        "2. `cProfile`\n",
        "4. `snakeviz`\n",
        "1. [`line_profiler`](https://github.com/rkern/line_profiler)\n",
        "3. `timeit`\n",
        "\n",
        "\n",
        "\n",
        "```console\n",
        "pip install line_profiler\n",
        "```"
      ]
    },
    {
      "cell_type": "code",
      "execution_count": null,
      "metadata": {
        "id": "jVXOgZ9WPgVz"
      },
      "outputs": [],
      "source": [
        "import numpy\n",
        "from time import sleep\n",
        "\n",
        "def sleepy(time2sleep):\n",
        "    sleep(time2sleep)\n",
        "\n",
        "def supersleepy(time2sleep):\n",
        "    sleep(time2sleep)\n",
        "\n",
        "def randmatmul(n=1000):\n",
        "    a = numpy.random.random((n,n))\n",
        "    b = a @ a\n",
        "    return b\n",
        "\n",
        "def useless(a):\n",
        "    if not isinstance(a, int):\n",
        "        return\n",
        "\n",
        "    randmatmul(a)\n",
        "\n",
        "    ans = 0\n",
        "    for i in range(a):\n",
        "        ans += i\n",
        "\n",
        "    sleepy(1.0)\n",
        "    supersleepy(2.0)\n",
        "\n",
        "    return ans"
      ]
    },
    {
      "cell_type": "markdown",
      "metadata": {
        "id": "cBxb6XGNPgV0"
      },
      "source": [
        "## using `cProfile`\n",
        "\n",
        "[`cProfile`](https://docs.python.org/3.4/library/profile.html#module-cProfile) is the built-in profiler in Python (available since Python 2.5).  It provides a function-by-function report of execution time. First import the module, then usage is simply a call to `cProfile.run()` with your code as argument. It will print out a list of all the functions that were called, with the number of calls and the time spent in each.\n",
        "\n",
        "from the command line:\n",
        "`python -m cProfile -s tottime script.py`\n",
        "\n",
        "to output in the file\n",
        "`python -m cProfile -o output.pstats script.py`\n",
        "\n",
        "to create a graph of dependencies + timing:\n",
        "`gprof2dot -f pstats output.pstats | dot -Tpng -o output.png`"
      ]
    },
    {
      "cell_type": "code",
      "execution_count": null,
      "metadata": {
        "scrolled": true,
        "colab": {
          "base_uri": "https://localhost:8080/",
          "height": 165
        },
        "id": "XldmVdt3PgV0",
        "outputId": "4eb4424f-0d50-40c7-a725-0fe4142aec1c"
      },
      "outputs": [
        {
          "output_type": "execute_result",
          "data": {
            "text/plain": [
              "'\\n\\nncalls\\n\\n    for the number of calls.\\n    \\ntottime\\n\\n    for the total time spent in the given function \\n    (and excluding time made in calls to sub-functions)\\n\\npercall\\n\\n    is the quotient of tottime divided by ncalls\\n\\ncumtime\\n\\n    is the cumulative time spent in this and all subfunctions \\n    (from invocation till exit). This figure is accurate even \\n    for recursive functions.\\n\\npercall\\n\\n    is the quotient of cumtime divided by primitive calls\\n\\nfilename:lineno(function)\\n\\n    provides the respective data of each function\\n\\n'"
            ],
            "application/vnd.google.colaboratory.intrinsic+json": {
              "type": "string"
            }
          },
          "metadata": {},
          "execution_count": 4
        }
      ],
      "source": [
        "import cProfile\n",
        "\n",
        "#cProfile.run('useless(3000)')\n",
        "\n",
        "### write stats to the file\n",
        "cProfile.run('useless(3000)', 'statistics')\n",
        "# python -m cProfile [-o output_file] [-s sort_order] (-m module | myscript.py)\n",
        "\n",
        "'''\n",
        "\n",
        "ncalls\n",
        "\n",
        "    for the number of calls.\n",
        "\n",
        "tottime\n",
        "\n",
        "    for the total time spent in the given function\n",
        "    (and excluding time made in calls to sub-functions)\n",
        "\n",
        "percall\n",
        "\n",
        "    is the quotient of tottime divided by ncalls\n",
        "\n",
        "cumtime\n",
        "\n",
        "    is the cumulative time spent in this and all subfunctions\n",
        "    (from invocation till exit). This figure is accurate even\n",
        "    for recursive functions.\n",
        "\n",
        "percall\n",
        "\n",
        "    is the quotient of cumtime divided by primitive calls\n",
        "\n",
        "filename:lineno(function)\n",
        "\n",
        "    provides the respective data of each function\n",
        "\n",
        "'''\n"
      ]
    },
    {
      "cell_type": "code",
      "execution_count": null,
      "metadata": {
        "colab": {
          "base_uri": "https://localhost:8080/"
        },
        "id": "xPBNVMxmPgV1",
        "outputId": "a0de1e59-9d0a-4a57-a0bc-facb46268d3b"
      },
      "outputs": [
        {
          "output_type": "stream",
          "name": "stdout",
          "text": [
            "Thu Oct 19 14:14:51 2023    statistics\n",
            "\n",
            "         11 function calls in 4.670 seconds\n",
            "\n",
            "   Ordered by: standard name\n",
            "\n",
            "   ncalls  tottime  percall  cumtime  percall filename:lineno(function)\n",
            "        1    1.492    1.492    1.665    1.665 <ipython-input-1-ea697ff3f42e>:10(randmatmul)\n",
            "        1    0.002    0.002    4.670    4.670 <ipython-input-1-ea697ff3f42e>:15(useless)\n",
            "        1    0.000    0.000    1.001    1.001 <ipython-input-1-ea697ff3f42e>:4(sleepy)\n",
            "        1    0.000    0.000    2.002    2.002 <ipython-input-1-ea697ff3f42e>:7(supersleepy)\n",
            "        1    0.000    0.000    4.670    4.670 <string>:1(<module>)\n",
            "        1    0.000    0.000    4.670    4.670 {built-in method builtins.exec}\n",
            "        1    0.000    0.000    0.000    0.000 {built-in method builtins.isinstance}\n",
            "        2    3.003    1.502    3.003    1.502 {built-in method time.sleep}\n",
            "        1    0.000    0.000    0.000    0.000 {method 'disable' of '_lsprof.Profiler' objects}\n",
            "        1    0.174    0.174    0.174    0.174 {method 'random' of 'numpy.random.mtrand.RandomState' objects}\n",
            "\n",
            "\n"
          ]
        },
        {
          "output_type": "execute_result",
          "data": {
            "text/plain": [
              "<pstats.Stats at 0x7d4bb2e847f0>"
            ]
          },
          "metadata": {},
          "execution_count": 5
        }
      ],
      "source": [
        "import pstats\n",
        "from pstats import SortKey\n",
        "p = pstats.Stats('statistics')\n",
        "p.strip_dirs().sort_stats(-1).print_stats()"
      ]
    },
    {
      "cell_type": "markdown",
      "metadata": {
        "id": "zgGSghNkPgV2"
      },
      "source": [
        "## using `snakeviz`\n",
        "\n",
        "`pip install snakeviz`"
      ]
    },
    {
      "cell_type": "code",
      "execution_count": null,
      "metadata": {
        "colab": {
          "base_uri": "https://localhost:8080/",
          "height": 483
        },
        "id": "f6-pAFu2PgV2",
        "outputId": "ee523345-e8df-47ac-99d8-49b1582e441a"
      },
      "outputs": [
        {
          "output_type": "error",
          "ename": "ModuleNotFoundError",
          "evalue": "ignored",
          "traceback": [
            "\u001b[0;31m---------------------------------------------------------------------------\u001b[0m",
            "\u001b[0;31mModuleNotFoundError\u001b[0m                       Traceback (most recent call last)",
            "\u001b[0;32m<ipython-input-6-a196e79e3978>\u001b[0m in \u001b[0;36m<cell line: 1>\u001b[0;34m()\u001b[0m\n\u001b[0;32m----> 1\u001b[0;31m \u001b[0mget_ipython\u001b[0m\u001b[0;34m(\u001b[0m\u001b[0;34m)\u001b[0m\u001b[0;34m.\u001b[0m\u001b[0mrun_line_magic\u001b[0m\u001b[0;34m(\u001b[0m\u001b[0;34m'load_ext'\u001b[0m\u001b[0;34m,\u001b[0m \u001b[0;34m'snakeviz'\u001b[0m\u001b[0;34m)\u001b[0m\u001b[0;34m\u001b[0m\u001b[0;34m\u001b[0m\u001b[0m\n\u001b[0m",
            "\u001b[0;32m/usr/local/lib/python3.10/dist-packages/IPython/core/interactiveshell.py\u001b[0m in \u001b[0;36mrun_line_magic\u001b[0;34m(self, magic_name, line, _stack_depth)\u001b[0m\n\u001b[1;32m   2416\u001b[0m                 \u001b[0mkwargs\u001b[0m\u001b[0;34m[\u001b[0m\u001b[0;34m'local_ns'\u001b[0m\u001b[0;34m]\u001b[0m \u001b[0;34m=\u001b[0m \u001b[0mself\u001b[0m\u001b[0;34m.\u001b[0m\u001b[0mget_local_scope\u001b[0m\u001b[0;34m(\u001b[0m\u001b[0mstack_depth\u001b[0m\u001b[0;34m)\u001b[0m\u001b[0;34m\u001b[0m\u001b[0;34m\u001b[0m\u001b[0m\n\u001b[1;32m   2417\u001b[0m             \u001b[0;32mwith\u001b[0m \u001b[0mself\u001b[0m\u001b[0;34m.\u001b[0m\u001b[0mbuiltin_trap\u001b[0m\u001b[0;34m:\u001b[0m\u001b[0;34m\u001b[0m\u001b[0;34m\u001b[0m\u001b[0m\n\u001b[0;32m-> 2418\u001b[0;31m                 \u001b[0mresult\u001b[0m \u001b[0;34m=\u001b[0m \u001b[0mfn\u001b[0m\u001b[0;34m(\u001b[0m\u001b[0;34m*\u001b[0m\u001b[0margs\u001b[0m\u001b[0;34m,\u001b[0m \u001b[0;34m**\u001b[0m\u001b[0mkwargs\u001b[0m\u001b[0;34m)\u001b[0m\u001b[0;34m\u001b[0m\u001b[0;34m\u001b[0m\u001b[0m\n\u001b[0m\u001b[1;32m   2419\u001b[0m             \u001b[0;32mreturn\u001b[0m \u001b[0mresult\u001b[0m\u001b[0;34m\u001b[0m\u001b[0;34m\u001b[0m\u001b[0m\n\u001b[1;32m   2420\u001b[0m \u001b[0;34m\u001b[0m\u001b[0m\n",
            "\u001b[0;32m<decorator-gen-57>\u001b[0m in \u001b[0;36mload_ext\u001b[0;34m(self, module_str)\u001b[0m\n",
            "\u001b[0;32m/usr/local/lib/python3.10/dist-packages/IPython/core/magic.py\u001b[0m in \u001b[0;36m<lambda>\u001b[0;34m(f, *a, **k)\u001b[0m\n\u001b[1;32m    185\u001b[0m     \u001b[0;31m# but it's overkill for just that one bit of state.\u001b[0m\u001b[0;34m\u001b[0m\u001b[0;34m\u001b[0m\u001b[0m\n\u001b[1;32m    186\u001b[0m     \u001b[0;32mdef\u001b[0m \u001b[0mmagic_deco\u001b[0m\u001b[0;34m(\u001b[0m\u001b[0marg\u001b[0m\u001b[0;34m)\u001b[0m\u001b[0;34m:\u001b[0m\u001b[0;34m\u001b[0m\u001b[0;34m\u001b[0m\u001b[0m\n\u001b[0;32m--> 187\u001b[0;31m         \u001b[0mcall\u001b[0m \u001b[0;34m=\u001b[0m \u001b[0;32mlambda\u001b[0m \u001b[0mf\u001b[0m\u001b[0;34m,\u001b[0m \u001b[0;34m*\u001b[0m\u001b[0ma\u001b[0m\u001b[0;34m,\u001b[0m \u001b[0;34m**\u001b[0m\u001b[0mk\u001b[0m\u001b[0;34m:\u001b[0m \u001b[0mf\u001b[0m\u001b[0;34m(\u001b[0m\u001b[0;34m*\u001b[0m\u001b[0ma\u001b[0m\u001b[0;34m,\u001b[0m \u001b[0;34m**\u001b[0m\u001b[0mk\u001b[0m\u001b[0;34m)\u001b[0m\u001b[0;34m\u001b[0m\u001b[0;34m\u001b[0m\u001b[0m\n\u001b[0m\u001b[1;32m    188\u001b[0m \u001b[0;34m\u001b[0m\u001b[0m\n\u001b[1;32m    189\u001b[0m         \u001b[0;32mif\u001b[0m \u001b[0mcallable\u001b[0m\u001b[0;34m(\u001b[0m\u001b[0marg\u001b[0m\u001b[0;34m)\u001b[0m\u001b[0;34m:\u001b[0m\u001b[0;34m\u001b[0m\u001b[0;34m\u001b[0m\u001b[0m\n",
            "\u001b[0;32m/usr/local/lib/python3.10/dist-packages/IPython/core/magics/extension.py\u001b[0m in \u001b[0;36mload_ext\u001b[0;34m(self, module_str)\u001b[0m\n\u001b[1;32m     31\u001b[0m         \u001b[0;32mif\u001b[0m \u001b[0;32mnot\u001b[0m \u001b[0mmodule_str\u001b[0m\u001b[0;34m:\u001b[0m\u001b[0;34m\u001b[0m\u001b[0;34m\u001b[0m\u001b[0m\n\u001b[1;32m     32\u001b[0m             \u001b[0;32mraise\u001b[0m \u001b[0mUsageError\u001b[0m\u001b[0;34m(\u001b[0m\u001b[0;34m'Missing module name.'\u001b[0m\u001b[0;34m)\u001b[0m\u001b[0;34m\u001b[0m\u001b[0;34m\u001b[0m\u001b[0m\n\u001b[0;32m---> 33\u001b[0;31m         \u001b[0mres\u001b[0m \u001b[0;34m=\u001b[0m \u001b[0mself\u001b[0m\u001b[0;34m.\u001b[0m\u001b[0mshell\u001b[0m\u001b[0;34m.\u001b[0m\u001b[0mextension_manager\u001b[0m\u001b[0;34m.\u001b[0m\u001b[0mload_extension\u001b[0m\u001b[0;34m(\u001b[0m\u001b[0mmodule_str\u001b[0m\u001b[0;34m)\u001b[0m\u001b[0;34m\u001b[0m\u001b[0;34m\u001b[0m\u001b[0m\n\u001b[0m\u001b[1;32m     34\u001b[0m \u001b[0;34m\u001b[0m\u001b[0m\n\u001b[1;32m     35\u001b[0m         \u001b[0;32mif\u001b[0m \u001b[0mres\u001b[0m \u001b[0;34m==\u001b[0m \u001b[0;34m'already loaded'\u001b[0m\u001b[0;34m:\u001b[0m\u001b[0;34m\u001b[0m\u001b[0;34m\u001b[0m\u001b[0m\n",
            "\u001b[0;32m/usr/local/lib/python3.10/dist-packages/IPython/core/extensions.py\u001b[0m in \u001b[0;36mload_extension\u001b[0;34m(self, module_str)\u001b[0m\n\u001b[1;32m     78\u001b[0m             \u001b[0;32mif\u001b[0m \u001b[0mmodule_str\u001b[0m \u001b[0;32mnot\u001b[0m \u001b[0;32min\u001b[0m \u001b[0msys\u001b[0m\u001b[0;34m.\u001b[0m\u001b[0mmodules\u001b[0m\u001b[0;34m:\u001b[0m\u001b[0;34m\u001b[0m\u001b[0;34m\u001b[0m\u001b[0m\n\u001b[1;32m     79\u001b[0m                 \u001b[0;32mwith\u001b[0m \u001b[0mprepended_to_syspath\u001b[0m\u001b[0;34m(\u001b[0m\u001b[0mself\u001b[0m\u001b[0;34m.\u001b[0m\u001b[0mipython_extension_dir\u001b[0m\u001b[0;34m)\u001b[0m\u001b[0;34m:\u001b[0m\u001b[0;34m\u001b[0m\u001b[0;34m\u001b[0m\u001b[0m\n\u001b[0;32m---> 80\u001b[0;31m                     \u001b[0mmod\u001b[0m \u001b[0;34m=\u001b[0m \u001b[0mimport_module\u001b[0m\u001b[0;34m(\u001b[0m\u001b[0mmodule_str\u001b[0m\u001b[0;34m)\u001b[0m\u001b[0;34m\u001b[0m\u001b[0;34m\u001b[0m\u001b[0m\n\u001b[0m\u001b[1;32m     81\u001b[0m                     \u001b[0;32mif\u001b[0m \u001b[0mmod\u001b[0m\u001b[0;34m.\u001b[0m\u001b[0m__file__\u001b[0m\u001b[0;34m.\u001b[0m\u001b[0mstartswith\u001b[0m\u001b[0;34m(\u001b[0m\u001b[0mself\u001b[0m\u001b[0;34m.\u001b[0m\u001b[0mipython_extension_dir\u001b[0m\u001b[0;34m)\u001b[0m\u001b[0;34m:\u001b[0m\u001b[0;34m\u001b[0m\u001b[0;34m\u001b[0m\u001b[0m\n\u001b[1;32m     82\u001b[0m                         print((\"Loading extensions from {dir} is deprecated. \"\n",
            "\u001b[0;32m/usr/lib/python3.10/importlib/__init__.py\u001b[0m in \u001b[0;36mimport_module\u001b[0;34m(name, package)\u001b[0m\n\u001b[1;32m    124\u001b[0m                 \u001b[0;32mbreak\u001b[0m\u001b[0;34m\u001b[0m\u001b[0;34m\u001b[0m\u001b[0m\n\u001b[1;32m    125\u001b[0m             \u001b[0mlevel\u001b[0m \u001b[0;34m+=\u001b[0m \u001b[0;36m1\u001b[0m\u001b[0;34m\u001b[0m\u001b[0;34m\u001b[0m\u001b[0m\n\u001b[0;32m--> 126\u001b[0;31m     \u001b[0;32mreturn\u001b[0m \u001b[0m_bootstrap\u001b[0m\u001b[0;34m.\u001b[0m\u001b[0m_gcd_import\u001b[0m\u001b[0;34m(\u001b[0m\u001b[0mname\u001b[0m\u001b[0;34m[\u001b[0m\u001b[0mlevel\u001b[0m\u001b[0;34m:\u001b[0m\u001b[0;34m]\u001b[0m\u001b[0;34m,\u001b[0m \u001b[0mpackage\u001b[0m\u001b[0;34m,\u001b[0m \u001b[0mlevel\u001b[0m\u001b[0;34m)\u001b[0m\u001b[0;34m\u001b[0m\u001b[0;34m\u001b[0m\u001b[0m\n\u001b[0m\u001b[1;32m    127\u001b[0m \u001b[0;34m\u001b[0m\u001b[0m\n\u001b[1;32m    128\u001b[0m \u001b[0;34m\u001b[0m\u001b[0m\n",
            "\u001b[0;32m/usr/lib/python3.10/importlib/_bootstrap.py\u001b[0m in \u001b[0;36m_gcd_import\u001b[0;34m(name, package, level)\u001b[0m\n",
            "\u001b[0;32m/usr/lib/python3.10/importlib/_bootstrap.py\u001b[0m in \u001b[0;36m_find_and_load\u001b[0;34m(name, import_)\u001b[0m\n",
            "\u001b[0;32m/usr/lib/python3.10/importlib/_bootstrap.py\u001b[0m in \u001b[0;36m_find_and_load_unlocked\u001b[0;34m(name, import_)\u001b[0m\n",
            "\u001b[0;31mModuleNotFoundError\u001b[0m: No module named 'snakeviz'",
            "",
            "\u001b[0;31m---------------------------------------------------------------------------\u001b[0;32m\nNOTE: If your import is failing due to a missing package, you can\nmanually install dependencies using either !pip or !apt.\n\nTo view examples of installing some common dependencies, click the\n\"Open Examples\" button below.\n\u001b[0;31m---------------------------------------------------------------------------\u001b[0m\n"
          ],
          "errorDetails": {
            "actions": [
              {
                "action": "open_url",
                "actionText": "Open Examples",
                "url": "/notebooks/snippets/importing_libraries.ipynb"
              }
            ]
          }
        }
      ],
      "source": [
        "%load_ext snakeviz"
      ]
    },
    {
      "cell_type": "code",
      "execution_count": null,
      "metadata": {
        "id": "NSd5P7tlPgV3",
        "outputId": "6958d842-4baa-4d44-c0d2-87bd784792c8"
      },
      "outputs": [
        {
          "name": "stdout",
          "output_type": "stream",
          "text": [
            " \n",
            "*** Profile stats marshalled to file '/var/folders/_n/2s9v9kwd2k1d72znwn6zjk200000gn/T/tmpid_i_g3m'. \n",
            "Embedding SnakeViz in this document...\n"
          ]
        },
        {
          "data": {
            "text/html": [
              "\n",
              "<iframe id='snakeviz-acaadb2c-3b48-11ee-9b92-acde48001122' frameborder=0 seamless width='100%' height='1000'></iframe>\n",
              "<script>document.getElementById(\"snakeviz-acaadb2c-3b48-11ee-9b92-acde48001122\").setAttribute(\"src\", \"http://\" + document.location.hostname + \":8080/snakeviz/%2Fvar%2Ffolders%2F_n%2F2s9v9kwd2k1d72znwn6zjk200000gn%2FT%2Ftmpid_i_g3m\")</script>\n"
            ],
            "text/plain": [
              "<IPython.core.display.HTML object>"
            ]
          },
          "metadata": {},
          "output_type": "display_data"
        }
      ],
      "source": [
        "%snakeviz useless(10000)"
      ]
    },
    {
      "cell_type": "markdown",
      "metadata": {
        "id": "LR0qCiGGPgV4"
      },
      "source": [
        "## using `line_profiler`\n",
        "\n",
        "`pip install line_profiler`\n",
        "\n",
        "`line_profiler` offers more granular information than `cProfile`: it will give timing information about each line of code in a profiled function.\n",
        "\n",
        "### For a pop-up window with results in notebook:\n",
        "\n",
        "IPython has an `%lprun` magic to profile specific functions within an executed statement. Usage:\n",
        "`%lprun -f func_to_profile <statement>` (get more help by running `%lprun?` in IPython)."
      ]
    },
    {
      "cell_type": "code",
      "execution_count": null,
      "metadata": {
        "id": "V5Qx6ryqPgV4",
        "outputId": "13f143ba-64da-46b7-f0ec-70eb804d23af"
      },
      "outputs": [
        {
          "name": "stdout",
          "output_type": "stream",
          "text": [
            "The line_profiler extension is already loaded. To reload it, use:\n",
            "  %reload_ext line_profiler\n"
          ]
        }
      ],
      "source": [
        "def master():\n",
        "    useless(3000)\n",
        "\n",
        "%load_ext line_profiler\n",
        "%lprun -f useless master()"
      ]
    },
    {
      "cell_type": "markdown",
      "metadata": {
        "id": "rJQPq1_RPgV5"
      },
      "source": [
        "### Write results to a text file"
      ]
    },
    {
      "cell_type": "code",
      "execution_count": null,
      "metadata": {
        "id": "mi3mt7FAPgV5"
      },
      "outputs": [],
      "source": [
        "%lprun -T timings.txt -f sleepy useless(1000)"
      ]
    },
    {
      "cell_type": "markdown",
      "metadata": {
        "id": "jlPdS93SPgV6"
      },
      "source": [
        "## Profiling on the command line\n",
        "\n",
        "Open file, add `@profile` decorator to any function you want to profile, then run\n",
        "\n",
        "```console\n",
        "kernprof -l script_to_profile.py\n",
        "```\n",
        "\n",
        "which will generate `script_to_profile.py.lprof` (pickled result).  To view the results, run\n",
        "\n",
        "```console\n",
        "python -m line_profiler script_to_profile.py.lprof\n",
        "```"
      ]
    },
    {
      "cell_type": "code",
      "execution_count": null,
      "metadata": {
        "scrolled": false,
        "id": "WAsbQcfMPgV6"
      },
      "outputs": [],
      "source": [
        "from IPython.display import IFrame\n",
        "IFrame('http://localhost:8888/terminals/1', width=800, height=700)"
      ]
    },
    {
      "cell_type": "markdown",
      "metadata": {
        "id": "mf6RJoFWPgV6"
      },
      "source": [
        "## `timeit`\n",
        "\n",
        "```python\n",
        "python -m timeit \"print(42)\"\n",
        "```\n"
      ]
    },
    {
      "cell_type": "code",
      "execution_count": null,
      "metadata": {
        "id": "e6dN_U_nPgV7"
      },
      "outputs": [],
      "source": [
        "# line magic\n",
        "%timeit x=10"
      ]
    },
    {
      "cell_type": "code",
      "execution_count": null,
      "metadata": {
        "id": "RPzdbFjqPgV7"
      },
      "outputs": [],
      "source": [
        "%%timeit\n",
        "# cell magic\n",
        "\n",
        "x=10\n",
        "a='hello'\n",
        "d=[1,2,3]"
      ]
    },
    {
      "cell_type": "code",
      "execution_count": null,
      "metadata": {
        "id": "fe-2HBR2PgV7",
        "outputId": "b7b9e9b4-0af6-4011-c761-3c92a3e75f21"
      },
      "outputs": [
        {
          "name": "stdout",
          "output_type": "stream",
          "text": [
            "         5027 function calls (4933 primitive calls) in 46.673 seconds\n",
            "\n",
            "   Ordered by: standard name\n",
            "\n",
            "   ncalls  tottime  percall  cumtime  percall filename:lineno(function)\n",
            "        3    0.000    0.000    0.000    0.000 <frozen importlib._bootstrap>:1009(_handle_fromlist)\n",
            "        1    0.000    0.000    0.000    0.000 <frozen importlib._bootstrap>:103(release)\n",
            "        1    0.000    0.000    0.000    0.000 <frozen importlib._bootstrap>:143(__init__)\n",
            "        1    0.000    0.000    0.000    0.000 <frozen importlib._bootstrap>:147(__enter__)\n",
            "        1    0.000    0.000    0.000    0.000 <frozen importlib._bootstrap>:151(__exit__)\n",
            "        1    0.000    0.000    0.000    0.000 <frozen importlib._bootstrap>:157(_get_module_lock)\n",
            "        1    0.000    0.000    0.000    0.000 <frozen importlib._bootstrap>:176(cb)\n",
            "        1    0.000    0.000    0.000    0.000 <frozen importlib._bootstrap>:211(_call_with_frames_removed)\n",
            "       12    0.000    0.000    0.000    0.000 <frozen importlib._bootstrap>:222(_verbose_message)\n",
            "        1    0.000    0.000    0.000    0.000 <frozen importlib._bootstrap>:307(__init__)\n",
            "        1    0.000    0.000    0.000    0.000 <frozen importlib._bootstrap>:311(__enter__)\n",
            "        1    0.000    0.000    0.000    0.000 <frozen importlib._bootstrap>:318(__exit__)\n",
            "        4    0.000    0.000    0.000    0.000 <frozen importlib._bootstrap>:321(<genexpr>)\n",
            "        1    0.000    0.000    0.000    0.000 <frozen importlib._bootstrap>:35(_new_module)\n",
            "        1    0.000    0.000    0.000    0.000 <frozen importlib._bootstrap>:369(__init__)\n",
            "        2    0.000    0.000    0.000    0.000 <frozen importlib._bootstrap>:403(cached)\n",
            "        1    0.000    0.000    0.000    0.000 <frozen importlib._bootstrap>:416(parent)\n",
            "        1    0.000    0.000    0.000    0.000 <frozen importlib._bootstrap>:424(has_location)\n",
            "        1    0.000    0.000    0.000    0.000 <frozen importlib._bootstrap>:504(_init_module_attrs)\n",
            "        1    0.000    0.000    0.000    0.000 <frozen importlib._bootstrap>:576(module_from_spec)\n",
            "        1    0.000    0.000    0.000    0.000 <frozen importlib._bootstrap>:58(__init__)\n",
            "        1    0.000    0.000    0.001    0.001 <frozen importlib._bootstrap>:663(_load_unlocked)\n",
            "        1    0.000    0.000    0.000    0.000 <frozen importlib._bootstrap>:719(find_spec)\n",
            "        1    0.000    0.000    0.000    0.000 <frozen importlib._bootstrap>:78(acquire)\n",
            "        1    0.000    0.000    0.000    0.000 <frozen importlib._bootstrap>:792(find_spec)\n",
            "        3    0.000    0.000    0.000    0.000 <frozen importlib._bootstrap>:855(__enter__)\n",
            "        3    0.000    0.000    0.000    0.000 <frozen importlib._bootstrap>:859(__exit__)\n",
            "        1    0.000    0.000    0.001    0.001 <frozen importlib._bootstrap>:882(_find_spec)\n",
            "        1    0.000    0.000    0.003    0.003 <frozen importlib._bootstrap>:948(_find_and_load_unlocked)\n",
            "        1    0.000    0.000    0.003    0.003 <frozen importlib._bootstrap>:978(_find_and_load)\n",
            "        3    0.000    0.000    0.000    0.000 <frozen importlib._bootstrap_external>:1203(_path_importer_cache)\n",
            "        1    0.000    0.000    0.001    0.001 <frozen importlib._bootstrap_external>:1240(_get_spec)\n",
            "        1    0.000    0.000    0.001    0.001 <frozen importlib._bootstrap_external>:1272(find_spec)\n",
            "        1    0.000    0.000    0.000    0.000 <frozen importlib._bootstrap_external>:1351(_get_spec)\n",
            "        2    0.000    0.000    0.001    0.001 <frozen importlib._bootstrap_external>:1356(find_spec)\n",
            "        2    0.000    0.000    0.000    0.000 <frozen importlib._bootstrap_external>:271(cache_from_source)\n",
            "        2    0.000    0.000    0.000    0.000 <frozen importlib._bootstrap_external>:36(_relax_case)\n",
            "        1    0.000    0.000    0.000    0.000 <frozen importlib._bootstrap_external>:369(_get_cached)\n",
            "        1    0.000    0.000    0.000    0.000 <frozen importlib._bootstrap_external>:401(_check_name_wrapper)\n",
            "        1    0.000    0.000    0.000    0.000 <frozen importlib._bootstrap_external>:438(_classify_pyc)\n",
            "        1    0.000    0.000    0.000    0.000 <frozen importlib._bootstrap_external>:471(_validate_timestamp_pyc)\n",
            "        3    0.000    0.000    0.000    0.000 <frozen importlib._bootstrap_external>:51(_r_long)\n",
            "        1    0.000    0.000    0.000    0.000 <frozen importlib._bootstrap_external>:523(_compile_bytecode)\n",
            "       11    0.000    0.000    0.000    0.000 <frozen importlib._bootstrap_external>:56(_path_join)\n",
            "        1    0.000    0.000    0.000    0.000 <frozen importlib._bootstrap_external>:574(spec_from_file_location)\n",
            "       11    0.000    0.000    0.000    0.000 <frozen importlib._bootstrap_external>:58(<listcomp>)\n",
            "        2    0.000    0.000    0.000    0.000 <frozen importlib._bootstrap_external>:62(_path_split)\n",
            "        1    0.000    0.000    0.000    0.000 <frozen importlib._bootstrap_external>:719(create_module)\n",
            "        1    0.000    0.000    0.001    0.001 <frozen importlib._bootstrap_external>:722(exec_module)\n",
            "        4    0.000    0.000    0.001    0.000 <frozen importlib._bootstrap_external>:74(_path_stat)\n",
            "        1    0.000    0.000    0.001    0.001 <frozen importlib._bootstrap_external>:793(get_code)\n",
            "        1    0.000    0.000    0.001    0.001 <frozen importlib._bootstrap_external>:84(_path_is_mode_type)\n",
            "        1    0.000    0.000    0.000    0.000 <frozen importlib._bootstrap_external>:884(__init__)\n",
            "        1    0.000    0.000    0.000    0.000 <frozen importlib._bootstrap_external>:909(get_filename)\n",
            "        1    0.001    0.001    0.001    0.001 <frozen importlib._bootstrap_external>:914(get_data)\n",
            "        1    0.000    0.000    0.001    0.001 <frozen importlib._bootstrap_external>:93(_path_isfile)\n",
            "        1    0.000    0.000    0.000    0.000 <frozen importlib._bootstrap_external>:951(path_stats)\n",
            "        1    0.000    0.000   46.673   46.673 <ipython-input-22-7d8553ddf1e1>:17(main)\n",
            "        1    0.000    0.000   46.673   46.673 <ipython-input-22-7d8553ddf1e1>:5(facebook)\n",
            "        1    0.000    0.000   46.673   46.673 <string>:1(<module>)\n",
            "        1    0.000    0.000    0.000    0.000 <string>:1(__new__)\n",
            "        2    0.000    0.000    0.000    0.000 SSL.py:1094(set_verify)\n",
            "        1    0.000    0.000    0.001    0.001 SSL.py:1186(set_cipher_list)\n",
            "        1    0.000    0.000    0.000    0.000 SSL.py:1360(set_options)\n",
            "        1    0.000    0.000    0.000    0.000 SSL.py:1373(set_mode)\n",
            "        2    0.000    0.000    0.000    0.000 SSL.py:1566(__init__)\n",
            "        1    0.000    0.000    0.000    0.000 SSL.py:1710(set_tlsext_host_name)\n",
            "        1    0.000    0.000   46.555   46.555 SSL.py:1925(do_handshake)\n",
            "        1    0.000    0.000    0.000    0.000 SSL.py:2026(get_cipher_list)\n",
            "        1    0.000    0.000    0.000    0.000 SSL.py:2275(set_connect_state)\n",
            "        2    0.000    0.000    0.000    0.000 SSL.py:286(__init__)\n",
            "        2    0.000    0.000    0.000    0.000 SSL.py:308(__init__)\n",
            "        1    0.000    0.000    0.000    0.000 SSL.py:619(_asFileDescriptor)\n",
            "        1    0.000    0.000    0.000    0.000 SSL.py:716(__init__)\n",
            "        1    0.000    0.000    0.009    0.009 SSL.py:762(load_verify_locations)\n",
            "        1    0.000    0.000    0.000    0.000 __init__.py:1356(debug)\n",
            "        1    0.000    0.000    0.000    0.000 __init__.py:1600(getEffectiveLevel)\n",
            "        1    0.000    0.000    0.000    0.000 __init__.py:1614(isEnabledFor)\n",
            "        1    0.000    0.000    0.000    0.000 __init__.py:212(_acquireLock)\n",
            "        1    0.000    0.000    0.000    0.000 __init__.py:221(_releaseLock)\n",
            "        1    0.000    0.000    0.000    0.000 __init__.py:43(normalize_encoding)\n",
            "        1    0.000    0.000    0.000    0.000 __init__.py:71(search_function)\n",
            "        2    0.000    0.000    0.000    0.000 _collections.py:46(__init__)\n",
            "        1    0.000    0.000    0.000    0.000 _collections.py:53(__getitem__)\n",
            "        1    0.000    0.000    0.000    0.000 _collections.py:60(__setitem__)\n",
            "        2    0.000    0.000    0.000    0.000 _collections.py:91(clear)\n",
            "       21    0.000    0.000    0.000    0.000 _collections_abc.py:392(__subclasshook__)\n",
            "        1    0.000    0.000    0.000    0.000 _collections_abc.py:406(__subclasshook__)\n",
            "        5    0.000    0.000    0.000    0.000 _collections_abc.py:657(get)\n",
            "        4    0.000    0.000    0.000    0.000 _collections_abc.py:664(__contains__)\n",
            "        7    0.000    0.000    0.000    0.000 _collections_abc.py:676(items)\n",
            "        7    0.000    0.000    0.000    0.000 _collections_abc.py:698(__init__)\n",
            "        1    0.000    0.000    0.000    0.000 _collections_abc.py:701(__len__)\n",
            "        1    0.000    0.000    0.000    0.000 _collections_abc.py:72(_check_methods)\n",
            "      191    0.000    0.000    0.001    0.000 _collections_abc.py:742(__iter__)\n",
            "        4    0.000    0.000    0.000    0.000 _collections_abc.py:824(update)\n",
            "        5    0.000    0.000    0.000    0.000 _internal_utils.py:14(to_native_string)\n",
            "        1    0.000    0.000    0.000    0.000 _internal_utils.py:30(unicode_is_ascii)\n",
            "        1    0.000    0.000    0.000    0.000 _util.py:127(text_to_bytes_and_warn)\n",
            "        7    0.000    0.000    0.000    0.000 _util.py:62(openssl_assert)\n",
            "       42    0.000    0.000    0.000    0.000 _util.py:72(native)\n",
            "        1    0.000    0.000    0.000    0.000 _util.py:93(path_string)\n",
            "       19    0.000    0.000    0.000    0.000 abc.py:137(__instancecheck__)\n",
            "     22/5    0.000    0.000    0.000    0.000 abc.py:141(__subclasscheck__)\n",
            "        2    0.000    0.000    0.000    0.000 adapters.py:113(__init__)\n",
            "        2    0.000    0.000    0.000    0.000 adapters.py:146(init_poolmanager)\n",
            "        1    0.000    0.000    0.000    0.000 adapters.py:203(cert_verify)\n",
            "        1    0.000    0.000    0.001    0.001 adapters.py:292(get_connection)\n",
            "        2    0.000    0.000    0.000    0.000 adapters.py:319(close)\n",
            "        1    0.000    0.000    0.000    0.000 adapters.py:329(request_url)\n",
            "        1    0.000    0.000    0.000    0.000 adapters.py:358(add_headers)\n",
            "        1    0.000    0.000   46.631   46.631 adapters.py:394(send)\n",
            "        2    0.000    0.000    0.000    0.000 adapters.py:58(__init__)\n",
            "        1    0.000    0.000   46.673   46.673 api.py:16(request)\n",
            "        1    0.000    0.000   46.673   46.673 api.py:64(get)\n",
            "        1    0.000    0.000    0.000    0.000 client.py:837(__init__)\n",
            "        1    0.000    0.000    0.000    0.000 client.py:881(_get_hostport)\n",
            "        1    0.000    0.000    0.000    0.000 client.py:944(close)\n",
            "        1    0.000    0.000    0.000    0.000 codecs.py:94(__new__)\n",
            "        1    0.000    0.000    0.000    0.000 connection.py:101(__init__)\n",
            "        1    0.000    0.000    0.000    0.000 connection.py:114(host)\n",
            "        1    0.000    0.000    0.000    0.000 connection.py:133(host)\n",
            "        1    0.000    0.000    0.064    0.064 connection.py:143(_new_conn)\n",
            "        1    0.000    0.000    0.000    0.000 connection.py:228(__init__)\n",
            "        1    0.000    0.000    0.000    0.000 connection.py:267(set_cert)\n",
            "        1    0.000    0.000   46.630   46.630 connection.py:298(connect)\n",
            "        1    0.000    0.000    0.064    0.064 connection.py:33(create_connection)\n",
            "        1    0.000    0.000    0.000    0.000 connection.py:89(_set_socket_options)\n",
            "        1    0.000    0.000    0.000    0.000 connection.py:97(allowed_gai_family)\n",
            "        1    0.000    0.000    0.000    0.000 connectionpool.py:1036(_normalize_host)\n",
            "        1    0.000    0.000    0.000    0.000 connectionpool.py:167(__init__)\n",
            "        1    0.000    0.000    0.000    0.000 connectionpool.py:237(_get_conn)\n",
            "        1    0.000    0.000    0.000    0.000 connectionpool.py:276(_put_conn)\n",
            "        1    0.000    0.000    0.000    0.000 connectionpool.py:304(_validate_conn)\n",
            "        2    0.000    0.000    0.000    0.000 connectionpool.py:314(_get_timeout)\n",
            "        1    0.000    0.000   46.630   46.630 connectionpool.py:351(_make_request)\n",
            "        1    0.000    0.000    0.000    0.000 connectionpool.py:455(close)\n",
            "        1    0.000    0.000   46.630   46.630 connectionpool.py:494(urlopen)\n",
            "        1    0.000    0.000    0.000    0.000 connectionpool.py:73(__init__)\n",
            "        1    0.000    0.000    0.000    0.000 connectionpool.py:873(__init__)\n",
            "        1    0.000    0.000    0.000    0.000 connectionpool.py:922(_prepare_conn)\n",
            "        1    0.000    0.000    0.000    0.000 connectionpool.py:950(_new_conn)\n",
            "        1    0.000    0.000   46.630   46.630 connectionpool.py:986(_validate_conn)\n",
            "        1    0.000    0.000    0.000    0.000 contextlib.py:107(__enter__)\n",
            "        1    0.000    0.000    0.000    0.000 contextlib.py:116(__exit__)\n",
            "        1    0.000    0.000    0.000    0.000 contextlib.py:237(helper)\n",
            "        1    0.000    0.000    0.000    0.000 contextlib.py:81(__init__)\n",
            "        5    0.000    0.000    0.000    0.000 cookiejar.py:1210(vals_sorted_by_key)\n",
            "        5    0.000    0.000    0.000    0.000 cookiejar.py:1214(deepvalues)\n",
            "        3    0.000    0.000    0.000    0.000 cookiejar.py:1249(__init__)\n",
            "        1    0.000    0.000    0.000    0.000 cookiejar.py:1278(_cookies_for_request)\n",
            "        1    0.000    0.000    0.000    0.000 cookiejar.py:1285(_cookie_attrs)\n",
            "        1    0.000    0.000    0.000    0.000 cookiejar.py:1344(add_cookie_header)\n",
            "        1    0.000    0.000    0.000    0.000 cookiejar.py:1723(clear_expired_cookies)\n",
            "        5    0.000    0.000    0.000    0.000 cookiejar.py:1742(__iter__)\n",
            "        1    0.000    0.000    0.000    0.000 cookiejar.py:43(_debug)\n",
            "        3    0.000    0.000    0.000    0.000 cookiejar.py:870(__init__)\n",
            "        1    0.000    0.000    0.000    0.000 cookies.py:135(get_cookie_header)\n",
            "        2    0.000    0.000    0.000    0.000 cookies.py:348(update)\n",
            "        1    0.000    0.000    0.000    0.000 cookies.py:37(__init__)\n",
            "        2    0.000    0.000    0.000    0.000 cookies.py:508(cookiejar_from_dict)\n",
            "        2    0.000    0.000    0.000    0.000 cookies.py:521(<listcomp>)\n",
            "        2    0.000    0.000    0.000    0.000 cookies.py:529(merge_cookies)\n",
            "        1    0.000    0.000    0.000    0.000 cookies.py:81(get_new_headers)\n",
            "       16    0.000    0.000    0.000    0.000 enum.py:284(__call__)\n",
            "       16    0.000    0.000    0.000    0.000 enum.py:526(__new__)\n",
            "       12    0.000    0.000    0.000    0.000 enum.py:623(name)\n",
            "        2    0.000    0.000    0.000    0.000 enum.py:628(value)\n",
            "        1    0.000    0.000    0.000    0.000 enum.py:793(_missing_)\n",
            "        1    0.000    0.000    0.000    0.000 enum.py:800(_create_pseudo_member_)\n",
            "        4    0.000    0.000    0.000    0.000 enum.py:830(__or__)\n",
            "        3    0.000    0.000    0.000    0.000 enum.py:836(__and__)\n",
            "        1    0.000    0.000    0.000    0.000 enum.py:872(_decompose)\n",
            "        1    0.000    0.000    0.000    0.000 enum.py:890(<listcomp>)\n",
            "        2    0.000    0.000    0.000    0.000 enum.py:901(<lambda>)\n",
            "        1    0.000    0.000    0.000    0.000 fnmatch.py:19(fnmatch)\n",
            "        1    0.000    0.000    0.000    0.000 fnmatch.py:38(_compile_pattern)\n",
            "        1    0.000    0.000    0.000    0.000 fnmatch.py:64(fnmatchcase)\n",
            "        1    0.000    0.000    0.000    0.000 fnmatch.py:74(translate)\n",
            "        2    0.000    0.000    0.000    0.000 functools.py:37(update_wrapper)\n",
            "        2    0.000    0.000    0.000    0.000 functools.py:67(wraps)\n",
            "        4    0.000    0.000    0.000    0.000 genericpath.py:16(exists)\n",
            "        1    0.000    0.000    0.000    0.000 genericpath.py:39(isdir)\n",
            "        3    0.000    0.000    0.000    0.000 hooks.py:17(default_hooks)\n",
            "        3    0.000    0.000    0.000    0.000 hooks.py:18(<dictcomp>)\n",
            "        2    0.000    0.000    0.000    0.000 idna.py:147(encode)\n",
            "        1    0.000    0.000    0.000    0.000 idna.py:300(getregentry)\n",
            "        1    0.000    0.000    0.000    0.000 models.py:175(register_hook)\n",
            "        1    0.000    0.000    0.000    0.000 models.py:184(<genexpr>)\n",
            "        1    0.000    0.000    0.000    0.000 models.py:226(__init__)\n",
            "        1    0.000    0.000    0.000    0.000 models.py:291(__init__)\n",
            "        1    0.000    0.000    0.000    0.000 models.py:308(prepare)\n",
            "        1    0.000    0.000    0.000    0.000 models.py:340(prepare_method)\n",
            "        1    0.000    0.000    0.000    0.000 models.py:356(prepare_url)\n",
            "        1    0.000    0.000    0.000    0.000 models.py:442(prepare_headers)\n",
            "        1    0.000    0.000    0.000    0.000 models.py:453(prepare_body)\n",
            "        1    0.000    0.000    0.000    0.000 models.py:522(prepare_content_length)\n",
            "        1    0.000    0.000    0.000    0.000 models.py:535(prepare_auth)\n",
            "        1    0.000    0.000    0.000    0.000 models.py:557(prepare_cookies)\n",
            "        1    0.000    0.000    0.000    0.000 models.py:577(prepare_hooks)\n",
            "        1    0.000    0.000    0.000    0.000 models.py:61(path_url)\n",
            "        1    0.000    0.000    0.000    0.000 models.py:82(_encode_params)\n",
            "        1    0.000    0.000    0.000    0.000 netrc.py:1(<module>)\n",
            "        1    0.000    0.000    0.000    0.000 netrc.py:10(NetrcParseError)\n",
            "        1    0.000    0.000    0.000    0.000 netrc.py:22(netrc)\n",
            "      182    0.000    0.000    0.001    0.000 os.py:673(__getitem__)\n",
            "      176    0.000    0.000    0.000    0.000 os.py:696(__iter__)\n",
            "      182    0.000    0.000    0.000    0.000 os.py:751(encode)\n",
            "      348    0.000    0.000    0.000    0.000 os.py:755(decode)\n",
            "        1    0.000    0.000    0.000    0.000 parse.py:1016(splitport)\n",
            "       19    0.000    0.000    0.000    0.000 parse.py:109(_coerce_args)\n",
            "        1    0.000    0.000    0.000    0.000 parse.py:146(username)\n",
            "        8    0.000    0.000    0.000    0.000 parse.py:154(hostname)\n",
            "        1    0.000    0.000    0.000    0.000 parse.py:178(_userinfo)\n",
            "        8    0.000    0.000    0.000    0.000 parse.py:190(_hostinfo)\n",
            "        1    0.000    0.000    0.000    0.000 parse.py:325(geturl)\n",
            "        7    0.000    0.000    0.000    0.000 parse.py:361(urlparse)\n",
            "        1    0.000    0.000    0.000    0.000 parse.py:386(_splitnetloc)\n",
            "        1    0.000    0.000    0.000    0.000 parse.py:394(_checknetloc)\n",
            "        8    0.000    0.000    0.000    0.000 parse.py:412(urlsplit)\n",
            "        2    0.000    0.000    0.000    0.000 parse.py:451(<genexpr>)\n",
            "        2    0.000    0.000    0.000    0.000 parse.py:469(urlunparse)\n",
            "        2    0.000    0.000    0.000    0.000 parse.py:480(urlunsplit)\n",
            "        1    0.000    0.000    0.000    0.000 parse.py:619(unquote)\n",
            "        1    0.000    0.000    0.000    0.000 parse.py:782(quote)\n",
            "        1    0.000    0.000    0.000    0.000 parse.py:853(quote_from_bytes)\n",
            "        1    0.000    0.000    0.000    0.000 parse.py:875(urlencode)\n",
            "       19    0.000    0.000    0.000    0.000 parse.py:98(_noop)\n",
            "        2    0.000    0.000    0.000    0.000 poolmanager.py:159(__init__)\n",
            "        1    0.000    0.000    0.000    0.000 poolmanager.py:162(<lambda>)\n",
            "        1    0.000    0.000    0.000    0.000 poolmanager.py:177(_new_pool)\n",
            "        2    0.000    0.000    0.000    0.000 poolmanager.py:204(clear)\n",
            "        1    0.000    0.000    0.000    0.000 poolmanager.py:213(connection_from_host)\n",
            "        1    0.000    0.000    0.000    0.000 poolmanager.py:236(connection_from_context)\n",
            "        1    0.000    0.000    0.000    0.000 poolmanager.py:249(connection_from_pool_key)\n",
            "        1    0.000    0.000    0.000    0.000 poolmanager.py:273(connection_from_url)\n",
            "        1    0.000    0.000    0.000    0.000 poolmanager.py:289(_merge_pool_kwargs)\n",
            "        1    0.000    0.000    0.000    0.000 poolmanager.py:68(_default_key_normalizer)\n",
            "        3    0.000    0.000    0.000    0.000 posixpath.py:232(expanduser)\n",
            "        2    0.000    0.000    0.000    0.000 posixpath.py:41(_get_sep)\n",
            "        2    0.000    0.000    0.000    0.000 posixpath.py:52(normcase)\n",
            "        1    0.000    0.000    0.000    0.000 pyopenssl.py:417(__init__)\n",
            "        1    0.000    0.000    0.000    0.000 pyopenssl.py:423(options)\n",
            "        1    0.000    0.000    0.000    0.000 pyopenssl.py:427(options)\n",
            "        2    0.000    0.000    0.000    0.000 pyopenssl.py:436(verify_mode)\n",
            "        1    0.000    0.000    0.001    0.001 pyopenssl.py:443(set_ciphers)\n",
            "        1    0.000    0.000    0.009    0.009 pyopenssl.py:448(load_verify_locations)\n",
            "        1    0.000    0.000   46.555   46.555 pyopenssl.py:465(wrap_socket)\n",
            "        1    0.000    0.000    0.000    0.000 queue.py:11(_init)\n",
            "       11    0.000    0.000    0.000    0.000 queue.py:121(put)\n",
            "       23    0.000    0.000    0.000    0.000 queue.py:14(_qsize)\n",
            "       12    0.000    0.000    0.000    0.000 queue.py:153(get)\n",
            "       11    0.000    0.000    0.000    0.000 queue.py:17(_put)\n",
            "       11    0.000    0.000    0.000    0.000 queue.py:20(_get)\n",
            "        1    0.000    0.000    0.000    0.000 queue.py:33(__init__)\n",
            "        2    0.000    0.000    0.000    0.000 re.py:170(match)\n",
            "        2    0.000    0.000    0.000    0.000 re.py:232(compile)\n",
            "        6    0.000    0.000    0.000    0.000 re.py:252(escape)\n",
            "        4    0.000    0.000    0.001    0.000 re.py:271(_compile)\n",
            "        2    0.000    0.000    0.001    0.001 request.py:2456(getproxies_environment)\n",
            "        1    0.000    0.000    0.028    0.028 request.py:2522(_proxy_bypass_macosx_sysconf)\n",
            "        2    0.000    0.000    0.000    0.000 request.py:2538(ip2num)\n",
            "        1    0.000    0.000    0.037    0.037 request.py:2585(proxy_bypass_macosx_sysconf)\n",
            "        1    0.000    0.000    0.000    0.000 request.py:2589(getproxies_macosx_sysconf)\n",
            "        1    0.000    0.000    0.037    0.037 request.py:2599(proxy_bypass)\n",
            "        1    0.000    0.000    0.001    0.001 request.py:2612(getproxies)\n",
            "        3    0.000    0.000    0.000    0.000 request.py:41(__init__)\n",
            "        1    0.000    0.000    0.000    0.000 request.py:90(set_file_position)\n",
            "        2    0.000    0.000    0.000    0.000 retry.py:161(__init__)\n",
            "        2    0.000    0.000    0.000    0.000 retry.py:196(<listcomp>)\n",
            "        1    0.000    0.000    0.000    0.000 sessions.py:362(__init__)\n",
            "        1    0.000    0.000    0.000    0.000 sessions.py:417(__enter__)\n",
            "        1    0.000    0.000    0.000    0.000 sessions.py:420(__exit__)\n",
            "        1    0.000    0.000    0.003    0.003 sessions.py:423(prepare_request)\n",
            "        1    0.000    0.000   46.673   46.673 sessions.py:463(request)\n",
            "        7    0.000    0.000    0.000    0.000 sessions.py:50(merge_setting)\n",
            "        1    0.000    0.000   46.631   46.631 sessions.py:614(send)\n",
            "        1    0.000    0.000    0.039    0.039 sessions.py:687(merge_environment_settings)\n",
            "        1    0.000    0.000    0.000    0.000 sessions.py:716(get_adapter)\n",
            "        1    0.000    0.000    0.000    0.000 sessions.py:730(close)\n",
            "        2    0.000    0.000    0.000    0.000 sessions.py:735(mount)\n",
            "        3    0.000    0.000    0.000    0.000 sessions.py:74(<listcomp>)\n",
            "        2    0.000    0.000    0.000    0.000 sessions.py:741(<listcomp>)\n",
            "        1    0.000    0.000    0.000    0.000 sessions.py:81(merge_hooks)\n",
            "        2    0.000    0.000    0.000    0.000 six.py:614(itervalues)\n",
            "        4    0.000    0.000    0.000    0.000 six.py:939(ensure_str)\n",
            "        7    0.000    0.000    0.000    0.000 six.py:959(ensure_text)\n",
            "        1    0.000    0.000    0.000    0.000 socket.py:139(__init__)\n",
            "        1    0.000    0.000    0.003    0.003 socket.py:731(getaddrinfo)\n",
            "        2    0.000    0.000    0.000    0.000 socket.py:97(_intenum_converter)\n",
            "        4    0.000    0.000    0.000    0.000 sre_compile.py:249(_compile_charset)\n",
            "        4    0.000    0.000    0.000    0.000 sre_compile.py:276(_optimize_charset)\n",
            "        8    0.000    0.000    0.000    0.000 sre_compile.py:423(_simple)\n",
            "        9    0.000    0.000    0.000    0.000 sre_compile.py:453(_get_iscased)\n",
            "      6/3    0.000    0.000    0.000    0.000 sre_compile.py:461(_get_literal_prefix)\n",
            "        3    0.000    0.000    0.000    0.000 sre_compile.py:492(_get_charset_prefix)\n",
            "        3    0.000    0.000    0.000    0.000 sre_compile.py:536(_compile_info)\n",
            "        6    0.000    0.000    0.000    0.000 sre_compile.py:595(isstring)\n",
            "        3    0.000    0.000    0.000    0.000 sre_compile.py:598(_code)\n",
            "       11    0.000    0.000    0.000    0.000 sre_compile.py:65(_combine_flags)\n",
            "     16/3    0.000    0.000    0.000    0.000 sre_compile.py:71(_compile)\n",
            "        3    0.000    0.000    0.001    0.000 sre_compile.py:759(compile)\n",
            "       17    0.000    0.000    0.000    0.000 sre_parse.py:111(__init__)\n",
            "       33    0.000    0.000    0.000    0.000 sre_parse.py:160(__len__)\n",
            "       99    0.000    0.000    0.000    0.000 sre_parse.py:164(__getitem__)\n",
            "        8    0.000    0.000    0.000    0.000 sre_parse.py:168(__setitem__)\n",
            "       23    0.000    0.000    0.000    0.000 sre_parse.py:172(append)\n",
            "     20/7    0.000    0.000    0.000    0.000 sre_parse.py:174(getwidth)\n",
            "        3    0.000    0.000    0.000    0.000 sre_parse.py:224(__init__)\n",
            "       49    0.000    0.000    0.000    0.000 sre_parse.py:233(__next)\n",
            "       31    0.000    0.000    0.000    0.000 sre_parse.py:249(match)\n",
            "       37    0.000    0.000    0.000    0.000 sre_parse.py:254(get)\n",
            "       24    0.000    0.000    0.000    0.000 sre_parse.py:286(tell)\n",
            "        6    0.000    0.000    0.000    0.000 sre_parse.py:343(_escape)\n",
            "        1    0.000    0.000    0.000    0.000 sre_parse.py:408(_uniq)\n",
            "      9/3    0.000    0.000    0.000    0.000 sre_parse.py:417(_parse_sub)\n",
            "      9/3    0.000    0.000    0.000    0.000 sre_parse.py:475(_parse)\n",
            "        3    0.000    0.000    0.000    0.000 sre_parse.py:76(__init__)\n",
            "       14    0.000    0.000    0.000    0.000 sre_parse.py:81(groups)\n",
            "        4    0.000    0.000    0.000    0.000 sre_parse.py:84(opengroup)\n",
            "        1    0.000    0.000    0.000    0.000 sre_parse.py:843(_parse_flags)\n",
            "        3    0.000    0.000    0.000    0.000 sre_parse.py:903(fix_flags)\n",
            "        3    0.000    0.000    0.000    0.000 sre_parse.py:919(parse)\n",
            "        4    0.000    0.000    0.000    0.000 sre_parse.py:96(closegroup)\n",
            "        2    0.000    0.000    0.000    0.000 ssl_.py:181(resolve_cert_reqs)\n"
          ]
        },
        {
          "name": "stdout",
          "output_type": "stream",
          "text": [
            "        1    0.000    0.000    0.000    0.000 ssl_.py:204(resolve_ssl_version)\n",
            "        1    0.000    0.000    0.001    0.001 ssl_.py:220(create_urllib3_context)\n",
            "        1    0.000    0.000   46.565   46.565 ssl_.py:296(ssl_wrap_socket)\n",
            "        1    0.000    0.000    0.000    0.000 ssl_.py:386(is_ipaddress)\n",
            "        3    0.000    0.000    0.000    0.000 structures.py:42(__init__)\n",
            "       12    0.000    0.000    0.000    0.000 structures.py:48(__setitem__)\n",
            "       12    0.000    0.000    0.000    0.000 structures.py:53(__getitem__)\n",
            "        3    0.000    0.000    0.000    0.000 structures.py:59(__iter__)\n",
            "       15    0.000    0.000    0.000    0.000 structures.py:60(<genexpr>)\n",
            "        2    0.000    0.000    0.000    0.000 structures.py:62(__len__)\n",
            "        3    0.000    0.000    0.000    0.000 threading.py:216(__init__)\n",
            "       23    0.000    0.000    0.000    0.000 threading.py:240(__enter__)\n",
            "       23    0.000    0.000    0.000    0.000 threading.py:243(__exit__)\n",
            "       22    0.000    0.000    0.000    0.000 threading.py:255(_is_owned)\n",
            "       22    0.000    0.000    0.000    0.000 threading.py:335(notify)\n",
            "        5    0.000    0.000    0.000    0.000 threading.py:75(RLock)\n",
            "       12    0.000    0.000    0.000    0.000 timeout.py:109(_validate_timeout)\n",
            "        1    0.000    0.000    0.000    0.000 timeout.py:155(from_float)\n",
            "        2    0.000    0.000    0.000    0.000 timeout.py:171(clone)\n",
            "        1    0.000    0.000    0.000    0.000 timeout.py:185(start_connect)\n",
            "        3    0.000    0.000    0.000    0.000 timeout.py:210(connect_timeout)\n",
            "        4    0.000    0.000    0.000    0.000 timeout.py:95(__init__)\n",
            "       14    0.000    0.000    0.000    0.000 types.py:164(__get__)\n",
            "        3    0.000    0.000    0.000    0.000 url.py:210(_encode_invalid_chars)\n",
            "        1    0.000    0.000    0.000    0.000 url.py:244(_remove_path_dot_segments)\n",
            "        3    0.000    0.000    0.000    0.000 url.py:274(_normalize_host)\n",
            "        3    0.000    0.000    0.000    0.000 url.py:297(<listcomp>)\n",
            "        6    0.000    0.000    0.000    0.000 url.py:302(_idna_encode)\n",
            "        6    0.000    0.000    0.000    0.000 url.py:303(<listcomp>)\n",
            "        1    0.000    0.000    0.000    0.000 url.py:320(_encode_target)\n",
            "        2    0.000    0.000    0.000    0.000 url.py:330(parse_url)\n",
            "       12    0.000    0.000    0.000    0.000 url.py:411(ensure_type)\n",
            "        2    0.000    0.000    0.000    0.000 url.py:91(__new__)\n",
            "        1    0.000    0.000    0.000    0.000 utils.py:108(super_len)\n",
            "        1    0.000    0.000    0.003    0.003 utils.py:169(get_netrc_auth)\n",
            "        1    0.000    0.000    0.000    0.000 utils.py:228(extract_zipped_paths)\n",
            "        7    0.000    0.000    0.000    0.000 utils.py:287(to_key_val_list)\n",
            "        1    0.000    0.000    0.000    0.000 utils.py:570(unquote_unreserved)\n",
            "        1    0.000    0.000    0.000    0.000 utils.py:594(requote_uri)\n",
            "        2    0.000    0.000    0.000    0.000 utils.py:677(set_environ)\n",
            "        1    0.000    0.000    0.037    0.037 utils.py:699(should_bypass_proxies)\n",
            "        1    0.000    0.000    0.000    0.000 utils.py:707(<lambda>)\n",
            "        1    0.000    0.000    0.039    0.039 utils.py:760(get_environ_proxies)\n",
            "        2    0.000    0.000    0.000    0.000 utils.py:772(select_proxy)\n",
            "        1    0.000    0.000    0.000    0.000 utils.py:798(default_user_agent)\n",
            "        1    0.000    0.000    0.000    0.000 utils.py:807(default_headers)\n",
            "        1    0.000    0.000    0.000    0.000 utils.py:911(get_auth_from_url)\n",
            "        4    0.000    0.000    0.000    0.000 utils.py:932(check_header_validity)\n",
            "        1    0.000    0.000    0.000    0.000 weakref.py:109(remove)\n",
            "        2    0.000    0.000    0.000    0.000 weakref.py:165(__setitem__)\n",
            "        2    0.000    0.000    0.000    0.000 weakref.py:336(__new__)\n",
            "        2    0.000    0.000    0.000    0.000 weakref.py:341(__init__)\n",
            "       15    0.000    0.000    0.000    0.000 {built-in method __new__ of type object at 0x104726568}\n",
            "       19    0.000    0.000    0.000    0.000 {built-in method _abc._abc_instancecheck}\n",
            "     22/5    0.000    0.000    0.000    0.000 {built-in method _abc._abc_subclasscheck}\n",
            "        1    0.000    0.000    0.000    0.000 {built-in method _imp._fix_co_filename}\n",
            "        5    0.000    0.000    0.000    0.000 {built-in method _imp.acquire_lock}\n",
            "        1    0.000    0.000    0.000    0.000 {built-in method _imp.is_builtin}\n",
            "        1    0.000    0.000    0.000    0.000 {built-in method _imp.is_frozen}\n",
            "        5    0.000    0.000    0.000    0.000 {built-in method _imp.release_lock}\n",
            "        2    0.000    0.000    0.000    0.000 {built-in method _openssl.BIO_new}\n",
            "        2    0.000    0.000    0.000    0.000 {built-in method _openssl.BIO_s_mem}\n",
            "        1    0.009    0.009    0.009    0.009 {built-in method _openssl.SSL_CTX_load_verify_locations}\n",
            "        1    0.000    0.000    0.000    0.000 {built-in method _openssl.SSL_CTX_new}\n",
            "        1    0.000    0.000    0.000    0.000 {built-in method _openssl.SSL_CTX_set_cipher_list}\n",
            "        1    0.000    0.000    0.000    0.000 {built-in method _openssl.SSL_CTX_set_ecdh_auto}\n",
            "        1    0.000    0.000    0.000    0.000 {built-in method _openssl.SSL_CTX_set_mode}\n",
            "        1    0.000    0.000    0.000    0.000 {built-in method _openssl.SSL_CTX_set_options}\n",
            "        2    0.000    0.000    0.000    0.000 {built-in method _openssl.SSL_CTX_set_verify}\n",
            "        1   46.555   46.555   46.555   46.555 {built-in method _openssl.SSL_do_handshake}\n",
            "       43    0.000    0.000    0.000    0.000 {built-in method _openssl.SSL_get_cipher_list}\n",
            "        2    0.000    0.000    0.000    0.000 {built-in method _openssl.SSL_new}\n",
            "        1    0.000    0.000    0.000    0.000 {built-in method _openssl.SSL_set_bio}\n",
            "        1    0.000    0.000    0.000    0.000 {built-in method _openssl.SSL_set_connect_state}\n",
            "        1    0.000    0.000    0.000    0.000 {built-in method _openssl.SSL_set_fd}\n",
            "        2    0.000    0.000    0.000    0.000 {built-in method _openssl.SSL_set_mode}\n",
            "        1    0.000    0.000    0.000    0.000 {built-in method _openssl.SSL_set_tlsext_host_name}\n",
            "        1    0.000    0.000    0.000    0.000 {built-in method _openssl.SSLv23_method}\n",
            "        1    0.000    0.000    0.000    0.000 {built-in method _scproxy._get_proxies}\n",
            "        1    0.009    0.009    0.009    0.009 {built-in method _scproxy._get_proxy_settings}\n",
            "        1    0.003    0.003    0.003    0.003 {built-in method _socket.getaddrinfo}\n",
            "        1    0.027    0.027    0.027    0.027 {built-in method _socket.gethostbyname}\n",
            "        3    0.000    0.000    0.000    0.000 {built-in method _sre.compile}\n",
            "        1    0.000    0.000    0.000    0.000 {built-in method _stat.S_ISDIR}\n",
            "        3    0.000    0.000    0.000    0.000 {built-in method _thread.allocate_lock}\n",
            "        2    0.000    0.000    0.000    0.000 {built-in method _thread.get_ident}\n",
            "        1    0.000    0.000    0.000    0.000 {built-in method _weakref._remove_dead_weakref}\n",
            "        2    0.000    0.000    0.000    0.000 {built-in method builtins.__build_class__}\n",
            "        1    0.000    0.000    0.000    0.000 {built-in method builtins.__import__}\n",
            "        1    0.000    0.000    0.000    0.000 {built-in method builtins.all}\n",
            "        9    0.000    0.000    0.000    0.000 {built-in method builtins.any}\n",
            "        2    0.000    0.000    0.000    0.000 {built-in method builtins.callable}\n",
            "      2/1    0.000    0.000   46.673   46.673 {built-in method builtins.exec}\n",
            "       29    0.000    0.000    0.000    0.000 {built-in method builtins.getattr}\n",
            "       16    0.000    0.000    0.000    0.000 {built-in method builtins.hasattr}\n",
            "      556    0.000    0.000    0.000    0.000 {built-in method builtins.isinstance}\n",
            "        2    0.000    0.000    0.000    0.000 {built-in method builtins.iter}\n",
            "  203/185    0.000    0.000    0.000    0.000 {built-in method builtins.len}\n",
            "        1    0.000    0.000    0.000    0.000 {built-in method builtins.max}\n",
            "       36    0.000    0.000    0.000    0.000 {built-in method builtins.min}\n",
            "        2    0.000    0.000    0.000    0.000 {built-in method builtins.next}\n",
            "       46    0.000    0.000    0.000    0.000 {built-in method builtins.ord}\n",
            "       10    0.000    0.000    0.000    0.000 {built-in method builtins.setattr}\n",
            "        5    0.000    0.000    0.000    0.000 {built-in method builtins.sorted}\n",
            "        3    0.000    0.000    0.000    0.000 {built-in method from_bytes}\n",
            "        1    0.000    0.000    0.000    0.000 {built-in method marshal.loads}\n",
            "        8    0.000    0.000    0.000    0.000 {built-in method posix.fspath}\n",
            "        9    0.001    0.000    0.001    0.000 {built-in method posix.stat}\n",
            "        1    0.000    0.000    0.000    0.000 {built-in method time.monotonic}\n",
            "        3    0.000    0.000    0.000    0.000 {built-in method time.time}\n",
            "        1    0.000    0.000    0.000    0.000 {built-in method today}\n",
            "       23    0.000    0.000    0.000    0.000 {method '__enter__' of '_thread.lock' objects}\n",
            "       23    0.000    0.000    0.000    0.000 {method '__exit__' of '_thread.lock' objects}\n",
            "        3    0.000    0.000    0.000    0.000 {method 'acquire' of '_thread.RLock' objects}\n",
            "       22    0.000    0.000    0.000    0.000 {method 'acquire' of '_thread.lock' objects}\n",
            "       11    0.000    0.000    0.000    0.000 {method 'append' of 'collections.deque' objects}\n",
            "      213    0.000    0.000    0.000    0.000 {method 'append' of 'list' objects}\n",
            "        2    0.000    0.000    0.000    0.000 {method 'callback' of 'CompiledFFI' objects}\n",
            "        2    0.000    0.000    0.000    0.000 {method 'clear' of 'collections.OrderedDict' objects}\n",
            "        1    0.061    0.061    0.061    0.061 {method 'connect' of '_socket.socket' objects}\n",
            "        4    0.000    0.000    0.000    0.000 {method 'copy' of 'dict' objects}\n",
            "        2    0.000    0.000    0.000    0.000 {method 'count' of 'bytes' objects}\n",
            "        2    0.000    0.000    0.000    0.000 {method 'decode' of 'bytearray' objects}\n",
            "      396    0.000    0.000    0.000    0.000 {method 'decode' of 'bytes' objects}\n",
            "        1    0.000    0.000    0.000    0.000 {method 'disable' of '_lsprof.Profiler' objects}\n",
            "      198    0.000    0.000    0.000    0.000 {method 'encode' of 'str' objects}\n",
            "        2    0.000    0.000    0.000    0.000 {method 'endswith' of 'str' objects}\n",
            "        4    0.000    0.000    0.000    0.000 {method 'extend' of 'list' objects}\n",
            "        1    0.000    0.000    0.000    0.000 {method 'fileno' of '_socket.socket' objects}\n",
            "        6    0.000    0.000    0.000    0.000 {method 'find' of 'bytearray' objects}\n",
            "        6    0.000    0.000    0.000    0.000 {method 'find' of 'str' objects}\n",
            "        2    0.000    0.000    0.000    0.000 {method 'format' of 'str' objects}\n",
            "        3    0.000    0.000    0.000    0.000 {method 'gc' of 'CompiledFFI' objects}\n",
            "       34    0.000    0.000    0.000    0.000 {method 'get' of 'dict' objects}\n",
            "        2    0.000    0.000    0.000    0.000 {method 'group' of 're.Match' objects}\n",
            "        5    0.000    0.000    0.000    0.000 {method 'groups' of 're.Match' objects}\n",
            "        4    0.000    0.000    0.000    0.000 {method 'isalnum' of 'str' objects}\n",
            "        1    0.000    0.000    0.000    0.000 {method 'isascii' of 'str' objects}\n",
            "        4    0.000    0.000    0.000    0.000 {method 'items' of 'collections.OrderedDict' objects}\n",
            "       15    0.000    0.000    0.000    0.000 {method 'items' of 'dict' objects}\n",
            "        3    0.000    0.000    0.000    0.000 {method 'join' of 'bytes' objects}\n",
            "       19    0.000    0.000    0.000    0.000 {method 'join' of 'str' objects}\n",
            "        7    0.000    0.000    0.000    0.000 {method 'keys' of 'dict' objects}\n",
            "      142    0.000    0.000    0.000    0.000 {method 'lower' of 'str' objects}\n",
            "        1    0.000    0.000    0.000    0.000 {method 'lstrip' of 'str' objects}\n",
            "       21    0.000    0.000    0.000    0.000 {method 'match' of 're.Pattern' objects}\n",
            "       24    0.000    0.000    0.000    0.000 {method 'partition' of 'str' objects}\n",
            "        1    0.000    0.000    0.000    0.000 {method 'pop' of 'collections.OrderedDict' objects}\n",
            "       11    0.000    0.000    0.000    0.000 {method 'pop' of 'collections.deque' objects}\n",
            "       12    0.000    0.000    0.000    0.000 {method 'pop' of 'dict' objects}\n",
            "        1    0.000    0.000    0.000    0.000 {method 'read' of '_io.FileIO' objects}\n",
            "        3    0.000    0.000    0.000    0.000 {method 'release' of '_thread.RLock' objects}\n",
            "        1    0.000    0.000    0.000    0.000 {method 'replace' of 'str' objects}\n",
            "       17    0.000    0.000    0.000    0.000 {method 'rpartition' of 'str' objects}\n",
            "        1    0.000    0.000    0.000    0.000 {method 'rstrip' of 'bytes' objects}\n",
            "       27    0.000    0.000    0.000    0.000 {method 'rstrip' of 'str' objects}\n",
            "        2    0.000    0.000    0.000    0.000 {method 'search' of 're.Pattern' objects}\n",
            "        6    0.000    0.000    0.000    0.000 {method 'setdefault' of 'dict' objects}\n",
            "        1    0.000    0.000    0.000    0.000 {method 'setsockopt' of '_socket.socket' objects}\n",
            "        1    0.000    0.000    0.000    0.000 {method 'settimeout' of '_socket.socket' objects}\n",
            "        2    0.000    0.000    0.000    0.000 {method 'sort' of 'list' objects}\n",
            "        2    0.000    0.000    0.000    0.000 {method 'split' of 'bytes' objects}\n",
            "        7    0.000    0.000    0.000    0.000 {method 'split' of 'str' objects}\n",
            "       12    0.000    0.000    0.000    0.000 {method 'startswith' of 'str' objects}\n",
            "       42    0.000    0.000    0.000    0.000 {method 'string' of 'CompiledFFI' objects}\n",
            "        2    0.000    0.000    0.000    0.000 {method 'subn' of 're.Pattern' objects}\n",
            "        6    0.000    0.000    0.000    0.000 {method 'translate' of 'str' objects}\n",
            "        2    0.000    0.000    0.000    0.000 {method 'update' of 'collections.OrderedDict' objects}\n",
            "        3    0.000    0.000    0.000    0.000 {method 'update' of 'dict' objects}\n",
            "        4    0.000    0.000    0.000    0.000 {method 'upper' of 'str' objects}\n",
            "        6    0.000    0.000    0.000    0.000 {method 'values' of 'collections.OrderedDict' objects}\n",
            "        2    0.000    0.000    0.000    0.000 {method 'values' of 'dict' objects}\n",
            "\n",
            "\n"
          ]
        },
        {
          "ename": "KeyboardInterrupt",
          "evalue": "",
          "output_type": "error",
          "traceback": [
            "\u001b[0;31m---------------------------------------------------------------------------\u001b[0m",
            "\u001b[0;31mKeyboardInterrupt\u001b[0m                         Traceback (most recent call last)",
            "\u001b[0;32m<ipython-input-22-7d8553ddf1e1>\u001b[0m in \u001b[0;36m<module>\u001b[0;34m\u001b[0m\n\u001b[1;32m     21\u001b[0m     \u001b[0mvk\u001b[0m\u001b[0;34m(\u001b[0m\u001b[0;34m)\u001b[0m\u001b[0;34m\u001b[0m\u001b[0;34m\u001b[0m\u001b[0m\n\u001b[1;32m     22\u001b[0m \u001b[0;34m\u001b[0m\u001b[0m\n\u001b[0;32m---> 23\u001b[0;31m \u001b[0mcProfile\u001b[0m\u001b[0;34m.\u001b[0m\u001b[0mrun\u001b[0m\u001b[0;34m(\u001b[0m\u001b[0;34m'main()'\u001b[0m\u001b[0;34m)\u001b[0m\u001b[0;34m\u001b[0m\u001b[0;34m\u001b[0m\u001b[0m\n\u001b[0m",
            "\u001b[0;32m~/opt/anaconda3/lib/python3.7/cProfile.py\u001b[0m in \u001b[0;36mrun\u001b[0;34m(statement, filename, sort)\u001b[0m\n\u001b[1;32m     14\u001b[0m \u001b[0;34m\u001b[0m\u001b[0m\n\u001b[1;32m     15\u001b[0m \u001b[0;32mdef\u001b[0m \u001b[0mrun\u001b[0m\u001b[0;34m(\u001b[0m\u001b[0mstatement\u001b[0m\u001b[0;34m,\u001b[0m \u001b[0mfilename\u001b[0m\u001b[0;34m=\u001b[0m\u001b[0;32mNone\u001b[0m\u001b[0;34m,\u001b[0m \u001b[0msort\u001b[0m\u001b[0;34m=\u001b[0m\u001b[0;34m-\u001b[0m\u001b[0;36m1\u001b[0m\u001b[0;34m)\u001b[0m\u001b[0;34m:\u001b[0m\u001b[0;34m\u001b[0m\u001b[0;34m\u001b[0m\u001b[0m\n\u001b[0;32m---> 16\u001b[0;31m     \u001b[0;32mreturn\u001b[0m \u001b[0m_pyprofile\u001b[0m\u001b[0;34m.\u001b[0m\u001b[0m_Utils\u001b[0m\u001b[0;34m(\u001b[0m\u001b[0mProfile\u001b[0m\u001b[0;34m)\u001b[0m\u001b[0;34m.\u001b[0m\u001b[0mrun\u001b[0m\u001b[0;34m(\u001b[0m\u001b[0mstatement\u001b[0m\u001b[0;34m,\u001b[0m \u001b[0mfilename\u001b[0m\u001b[0;34m,\u001b[0m \u001b[0msort\u001b[0m\u001b[0;34m)\u001b[0m\u001b[0;34m\u001b[0m\u001b[0;34m\u001b[0m\u001b[0m\n\u001b[0m\u001b[1;32m     17\u001b[0m \u001b[0;34m\u001b[0m\u001b[0m\n\u001b[1;32m     18\u001b[0m \u001b[0;32mdef\u001b[0m \u001b[0mrunctx\u001b[0m\u001b[0;34m(\u001b[0m\u001b[0mstatement\u001b[0m\u001b[0;34m,\u001b[0m \u001b[0mglobals\u001b[0m\u001b[0;34m,\u001b[0m \u001b[0mlocals\u001b[0m\u001b[0;34m,\u001b[0m \u001b[0mfilename\u001b[0m\u001b[0;34m=\u001b[0m\u001b[0;32mNone\u001b[0m\u001b[0;34m,\u001b[0m \u001b[0msort\u001b[0m\u001b[0;34m=\u001b[0m\u001b[0;34m-\u001b[0m\u001b[0;36m1\u001b[0m\u001b[0;34m)\u001b[0m\u001b[0;34m:\u001b[0m\u001b[0;34m\u001b[0m\u001b[0;34m\u001b[0m\u001b[0m\n",
            "\u001b[0;32m~/opt/anaconda3/lib/python3.7/profile.py\u001b[0m in \u001b[0;36mrun\u001b[0;34m(self, statement, filename, sort)\u001b[0m\n\u001b[1;32m     51\u001b[0m         \u001b[0mprof\u001b[0m \u001b[0;34m=\u001b[0m \u001b[0mself\u001b[0m\u001b[0;34m.\u001b[0m\u001b[0mprofiler\u001b[0m\u001b[0;34m(\u001b[0m\u001b[0;34m)\u001b[0m\u001b[0;34m\u001b[0m\u001b[0;34m\u001b[0m\u001b[0m\n\u001b[1;32m     52\u001b[0m         \u001b[0;32mtry\u001b[0m\u001b[0;34m:\u001b[0m\u001b[0;34m\u001b[0m\u001b[0;34m\u001b[0m\u001b[0m\n\u001b[0;32m---> 53\u001b[0;31m             \u001b[0mprof\u001b[0m\u001b[0;34m.\u001b[0m\u001b[0mrun\u001b[0m\u001b[0;34m(\u001b[0m\u001b[0mstatement\u001b[0m\u001b[0;34m)\u001b[0m\u001b[0;34m\u001b[0m\u001b[0;34m\u001b[0m\u001b[0m\n\u001b[0m\u001b[1;32m     54\u001b[0m         \u001b[0;32mexcept\u001b[0m \u001b[0mSystemExit\u001b[0m\u001b[0;34m:\u001b[0m\u001b[0;34m\u001b[0m\u001b[0;34m\u001b[0m\u001b[0m\n\u001b[1;32m     55\u001b[0m             \u001b[0;32mpass\u001b[0m\u001b[0;34m\u001b[0m\u001b[0;34m\u001b[0m\u001b[0m\n",
            "\u001b[0;32m~/opt/anaconda3/lib/python3.7/cProfile.py\u001b[0m in \u001b[0;36mrun\u001b[0;34m(self, cmd)\u001b[0m\n\u001b[1;32m     93\u001b[0m         \u001b[0;32mimport\u001b[0m \u001b[0m__main__\u001b[0m\u001b[0;34m\u001b[0m\u001b[0;34m\u001b[0m\u001b[0m\n\u001b[1;32m     94\u001b[0m         \u001b[0mdict\u001b[0m \u001b[0;34m=\u001b[0m \u001b[0m__main__\u001b[0m\u001b[0;34m.\u001b[0m\u001b[0m__dict__\u001b[0m\u001b[0;34m\u001b[0m\u001b[0;34m\u001b[0m\u001b[0m\n\u001b[0;32m---> 95\u001b[0;31m         \u001b[0;32mreturn\u001b[0m \u001b[0mself\u001b[0m\u001b[0;34m.\u001b[0m\u001b[0mrunctx\u001b[0m\u001b[0;34m(\u001b[0m\u001b[0mcmd\u001b[0m\u001b[0;34m,\u001b[0m \u001b[0mdict\u001b[0m\u001b[0;34m,\u001b[0m \u001b[0mdict\u001b[0m\u001b[0;34m)\u001b[0m\u001b[0;34m\u001b[0m\u001b[0;34m\u001b[0m\u001b[0m\n\u001b[0m\u001b[1;32m     96\u001b[0m \u001b[0;34m\u001b[0m\u001b[0m\n\u001b[1;32m     97\u001b[0m     \u001b[0;32mdef\u001b[0m \u001b[0mrunctx\u001b[0m\u001b[0;34m(\u001b[0m\u001b[0mself\u001b[0m\u001b[0;34m,\u001b[0m \u001b[0mcmd\u001b[0m\u001b[0;34m,\u001b[0m \u001b[0mglobals\u001b[0m\u001b[0;34m,\u001b[0m \u001b[0mlocals\u001b[0m\u001b[0;34m)\u001b[0m\u001b[0;34m:\u001b[0m\u001b[0;34m\u001b[0m\u001b[0;34m\u001b[0m\u001b[0m\n",
            "\u001b[0;32m~/opt/anaconda3/lib/python3.7/cProfile.py\u001b[0m in \u001b[0;36mrunctx\u001b[0;34m(self, cmd, globals, locals)\u001b[0m\n\u001b[1;32m     98\u001b[0m         \u001b[0mself\u001b[0m\u001b[0;34m.\u001b[0m\u001b[0menable\u001b[0m\u001b[0;34m(\u001b[0m\u001b[0;34m)\u001b[0m\u001b[0;34m\u001b[0m\u001b[0;34m\u001b[0m\u001b[0m\n\u001b[1;32m     99\u001b[0m         \u001b[0;32mtry\u001b[0m\u001b[0;34m:\u001b[0m\u001b[0;34m\u001b[0m\u001b[0;34m\u001b[0m\u001b[0m\n\u001b[0;32m--> 100\u001b[0;31m             \u001b[0mexec\u001b[0m\u001b[0;34m(\u001b[0m\u001b[0mcmd\u001b[0m\u001b[0;34m,\u001b[0m \u001b[0mglobals\u001b[0m\u001b[0;34m,\u001b[0m \u001b[0mlocals\u001b[0m\u001b[0;34m)\u001b[0m\u001b[0;34m\u001b[0m\u001b[0;34m\u001b[0m\u001b[0m\n\u001b[0m\u001b[1;32m    101\u001b[0m         \u001b[0;32mfinally\u001b[0m\u001b[0;34m:\u001b[0m\u001b[0;34m\u001b[0m\u001b[0;34m\u001b[0m\u001b[0m\n\u001b[1;32m    102\u001b[0m             \u001b[0mself\u001b[0m\u001b[0;34m.\u001b[0m\u001b[0mdisable\u001b[0m\u001b[0;34m(\u001b[0m\u001b[0;34m)\u001b[0m\u001b[0;34m\u001b[0m\u001b[0;34m\u001b[0m\u001b[0m\n",
            "\u001b[0;32m<string>\u001b[0m in \u001b[0;36m<module>\u001b[0;34m\u001b[0m\n",
            "\u001b[0;32m<ipython-input-22-7d8553ddf1e1>\u001b[0m in \u001b[0;36mmain\u001b[0;34m()\u001b[0m\n\u001b[1;32m     16\u001b[0m \u001b[0;34m\u001b[0m\u001b[0m\n\u001b[1;32m     17\u001b[0m \u001b[0;32mdef\u001b[0m \u001b[0mmain\u001b[0m\u001b[0;34m(\u001b[0m\u001b[0;34m)\u001b[0m\u001b[0;34m:\u001b[0m\u001b[0;34m\u001b[0m\u001b[0;34m\u001b[0m\u001b[0m\n\u001b[0;32m---> 18\u001b[0;31m     \u001b[0mfacebook\u001b[0m\u001b[0;34m(\u001b[0m\u001b[0;34m)\u001b[0m\u001b[0;34m\u001b[0m\u001b[0;34m\u001b[0m\u001b[0m\n\u001b[0m\u001b[1;32m     19\u001b[0m     \u001b[0mgoogle\u001b[0m\u001b[0;34m(\u001b[0m\u001b[0;34m)\u001b[0m\u001b[0;34m\u001b[0m\u001b[0;34m\u001b[0m\u001b[0m\n\u001b[1;32m     20\u001b[0m     \u001b[0mtwitter\u001b[0m\u001b[0;34m(\u001b[0m\u001b[0;34m)\u001b[0m\u001b[0;34m\u001b[0m\u001b[0;34m\u001b[0m\u001b[0m\n",
            "\u001b[0;32m<ipython-input-22-7d8553ddf1e1>\u001b[0m in \u001b[0;36mfacebook\u001b[0;34m()\u001b[0m\n\u001b[1;32m      4\u001b[0m \u001b[0;34m\u001b[0m\u001b[0m\n\u001b[1;32m      5\u001b[0m \u001b[0;32mdef\u001b[0m \u001b[0mfacebook\u001b[0m\u001b[0;34m(\u001b[0m\u001b[0;34m)\u001b[0m\u001b[0;34m:\u001b[0m\u001b[0;34m\u001b[0m\u001b[0;34m\u001b[0m\u001b[0m\n\u001b[0;32m----> 6\u001b[0;31m     \u001b[0mrequests\u001b[0m\u001b[0;34m.\u001b[0m\u001b[0mget\u001b[0m\u001b[0;34m(\u001b[0m\u001b[0;34m'https://facebook.com'\u001b[0m\u001b[0;34m)\u001b[0m\u001b[0;34m\u001b[0m\u001b[0;34m\u001b[0m\u001b[0m\n\u001b[0m\u001b[1;32m      7\u001b[0m \u001b[0;34m\u001b[0m\u001b[0m\n\u001b[1;32m      8\u001b[0m \u001b[0;34m\u001b[0m\u001b[0m\n",
            "\u001b[0;32m~/opt/anaconda3/lib/python3.7/site-packages/requests/api.py\u001b[0m in \u001b[0;36mget\u001b[0;34m(url, params, **kwargs)\u001b[0m\n\u001b[1;32m     74\u001b[0m \u001b[0;34m\u001b[0m\u001b[0m\n\u001b[1;32m     75\u001b[0m     \u001b[0mkwargs\u001b[0m\u001b[0;34m.\u001b[0m\u001b[0msetdefault\u001b[0m\u001b[0;34m(\u001b[0m\u001b[0;34m'allow_redirects'\u001b[0m\u001b[0;34m,\u001b[0m \u001b[0;32mTrue\u001b[0m\u001b[0;34m)\u001b[0m\u001b[0;34m\u001b[0m\u001b[0;34m\u001b[0m\u001b[0m\n\u001b[0;32m---> 76\u001b[0;31m     \u001b[0;32mreturn\u001b[0m \u001b[0mrequest\u001b[0m\u001b[0;34m(\u001b[0m\u001b[0;34m'get'\u001b[0m\u001b[0;34m,\u001b[0m \u001b[0murl\u001b[0m\u001b[0;34m,\u001b[0m \u001b[0mparams\u001b[0m\u001b[0;34m=\u001b[0m\u001b[0mparams\u001b[0m\u001b[0;34m,\u001b[0m \u001b[0;34m**\u001b[0m\u001b[0mkwargs\u001b[0m\u001b[0;34m)\u001b[0m\u001b[0;34m\u001b[0m\u001b[0;34m\u001b[0m\u001b[0m\n\u001b[0m\u001b[1;32m     77\u001b[0m \u001b[0;34m\u001b[0m\u001b[0m\n\u001b[1;32m     78\u001b[0m \u001b[0;34m\u001b[0m\u001b[0m\n",
            "\u001b[0;32m~/opt/anaconda3/lib/python3.7/site-packages/requests/api.py\u001b[0m in \u001b[0;36mrequest\u001b[0;34m(method, url, **kwargs)\u001b[0m\n\u001b[1;32m     59\u001b[0m     \u001b[0;31m# cases, and look like a memory leak in others.\u001b[0m\u001b[0;34m\u001b[0m\u001b[0;34m\u001b[0m\u001b[0;34m\u001b[0m\u001b[0m\n\u001b[1;32m     60\u001b[0m     \u001b[0;32mwith\u001b[0m \u001b[0msessions\u001b[0m\u001b[0;34m.\u001b[0m\u001b[0mSession\u001b[0m\u001b[0;34m(\u001b[0m\u001b[0;34m)\u001b[0m \u001b[0;32mas\u001b[0m \u001b[0msession\u001b[0m\u001b[0;34m:\u001b[0m\u001b[0;34m\u001b[0m\u001b[0;34m\u001b[0m\u001b[0m\n\u001b[0;32m---> 61\u001b[0;31m         \u001b[0;32mreturn\u001b[0m \u001b[0msession\u001b[0m\u001b[0;34m.\u001b[0m\u001b[0mrequest\u001b[0m\u001b[0;34m(\u001b[0m\u001b[0mmethod\u001b[0m\u001b[0;34m=\u001b[0m\u001b[0mmethod\u001b[0m\u001b[0;34m,\u001b[0m \u001b[0murl\u001b[0m\u001b[0;34m=\u001b[0m\u001b[0murl\u001b[0m\u001b[0;34m,\u001b[0m \u001b[0;34m**\u001b[0m\u001b[0mkwargs\u001b[0m\u001b[0;34m)\u001b[0m\u001b[0;34m\u001b[0m\u001b[0;34m\u001b[0m\u001b[0m\n\u001b[0m\u001b[1;32m     62\u001b[0m \u001b[0;34m\u001b[0m\u001b[0m\n\u001b[1;32m     63\u001b[0m \u001b[0;34m\u001b[0m\u001b[0m\n",
            "\u001b[0;32m~/opt/anaconda3/lib/python3.7/site-packages/requests/sessions.py\u001b[0m in \u001b[0;36mrequest\u001b[0;34m(self, method, url, params, data, headers, cookies, files, auth, timeout, allow_redirects, proxies, hooks, stream, verify, cert, json)\u001b[0m\n\u001b[1;32m    528\u001b[0m         }\n\u001b[1;32m    529\u001b[0m         \u001b[0msend_kwargs\u001b[0m\u001b[0;34m.\u001b[0m\u001b[0mupdate\u001b[0m\u001b[0;34m(\u001b[0m\u001b[0msettings\u001b[0m\u001b[0;34m)\u001b[0m\u001b[0;34m\u001b[0m\u001b[0;34m\u001b[0m\u001b[0m\n\u001b[0;32m--> 530\u001b[0;31m         \u001b[0mresp\u001b[0m \u001b[0;34m=\u001b[0m \u001b[0mself\u001b[0m\u001b[0;34m.\u001b[0m\u001b[0msend\u001b[0m\u001b[0;34m(\u001b[0m\u001b[0mprep\u001b[0m\u001b[0;34m,\u001b[0m \u001b[0;34m**\u001b[0m\u001b[0msend_kwargs\u001b[0m\u001b[0;34m)\u001b[0m\u001b[0;34m\u001b[0m\u001b[0;34m\u001b[0m\u001b[0m\n\u001b[0m\u001b[1;32m    531\u001b[0m \u001b[0;34m\u001b[0m\u001b[0m\n\u001b[1;32m    532\u001b[0m         \u001b[0;32mreturn\u001b[0m \u001b[0mresp\u001b[0m\u001b[0;34m\u001b[0m\u001b[0;34m\u001b[0m\u001b[0m\n",
            "\u001b[0;32m~/opt/anaconda3/lib/python3.7/site-packages/requests/sessions.py\u001b[0m in \u001b[0;36msend\u001b[0;34m(self, request, **kwargs)\u001b[0m\n\u001b[1;32m    641\u001b[0m \u001b[0;34m\u001b[0m\u001b[0m\n\u001b[1;32m    642\u001b[0m         \u001b[0;31m# Send the request\u001b[0m\u001b[0;34m\u001b[0m\u001b[0;34m\u001b[0m\u001b[0;34m\u001b[0m\u001b[0m\n\u001b[0;32m--> 643\u001b[0;31m         \u001b[0mr\u001b[0m \u001b[0;34m=\u001b[0m \u001b[0madapter\u001b[0m\u001b[0;34m.\u001b[0m\u001b[0msend\u001b[0m\u001b[0;34m(\u001b[0m\u001b[0mrequest\u001b[0m\u001b[0;34m,\u001b[0m \u001b[0;34m**\u001b[0m\u001b[0mkwargs\u001b[0m\u001b[0;34m)\u001b[0m\u001b[0;34m\u001b[0m\u001b[0;34m\u001b[0m\u001b[0m\n\u001b[0m\u001b[1;32m    644\u001b[0m \u001b[0;34m\u001b[0m\u001b[0m\n\u001b[1;32m    645\u001b[0m         \u001b[0;31m# Total elapsed time of the request (approximately)\u001b[0m\u001b[0;34m\u001b[0m\u001b[0;34m\u001b[0m\u001b[0;34m\u001b[0m\u001b[0m\n",
            "\u001b[0;32m~/opt/anaconda3/lib/python3.7/site-packages/requests/adapters.py\u001b[0m in \u001b[0;36msend\u001b[0;34m(self, request, stream, timeout, verify, cert, proxies)\u001b[0m\n\u001b[1;32m    447\u001b[0m                     \u001b[0mdecode_content\u001b[0m\u001b[0;34m=\u001b[0m\u001b[0;32mFalse\u001b[0m\u001b[0;34m,\u001b[0m\u001b[0;34m\u001b[0m\u001b[0;34m\u001b[0m\u001b[0m\n\u001b[1;32m    448\u001b[0m                     \u001b[0mretries\u001b[0m\u001b[0;34m=\u001b[0m\u001b[0mself\u001b[0m\u001b[0;34m.\u001b[0m\u001b[0mmax_retries\u001b[0m\u001b[0;34m,\u001b[0m\u001b[0;34m\u001b[0m\u001b[0;34m\u001b[0m\u001b[0m\n\u001b[0;32m--> 449\u001b[0;31m                     \u001b[0mtimeout\u001b[0m\u001b[0;34m=\u001b[0m\u001b[0mtimeout\u001b[0m\u001b[0;34m\u001b[0m\u001b[0;34m\u001b[0m\u001b[0m\n\u001b[0m\u001b[1;32m    450\u001b[0m                 )\n\u001b[1;32m    451\u001b[0m \u001b[0;34m\u001b[0m\u001b[0m\n",
            "\u001b[0;32m~/opt/anaconda3/lib/python3.7/site-packages/urllib3/connectionpool.py\u001b[0m in \u001b[0;36murlopen\u001b[0;34m(self, method, url, body, headers, retries, redirect, assert_same_host, timeout, pool_timeout, release_conn, chunked, body_pos, **response_kw)\u001b[0m\n\u001b[1;32m    670\u001b[0m                 \u001b[0mbody\u001b[0m\u001b[0;34m=\u001b[0m\u001b[0mbody\u001b[0m\u001b[0;34m,\u001b[0m\u001b[0;34m\u001b[0m\u001b[0;34m\u001b[0m\u001b[0m\n\u001b[1;32m    671\u001b[0m                 \u001b[0mheaders\u001b[0m\u001b[0;34m=\u001b[0m\u001b[0mheaders\u001b[0m\u001b[0;34m,\u001b[0m\u001b[0;34m\u001b[0m\u001b[0;34m\u001b[0m\u001b[0m\n\u001b[0;32m--> 672\u001b[0;31m                 \u001b[0mchunked\u001b[0m\u001b[0;34m=\u001b[0m\u001b[0mchunked\u001b[0m\u001b[0;34m,\u001b[0m\u001b[0;34m\u001b[0m\u001b[0;34m\u001b[0m\u001b[0m\n\u001b[0m\u001b[1;32m    673\u001b[0m             )\n\u001b[1;32m    674\u001b[0m \u001b[0;34m\u001b[0m\u001b[0m\n",
            "\u001b[0;32m~/opt/anaconda3/lib/python3.7/site-packages/urllib3/connectionpool.py\u001b[0m in \u001b[0;36m_make_request\u001b[0;34m(self, conn, method, url, timeout, chunked, **httplib_request_kw)\u001b[0m\n\u001b[1;32m    374\u001b[0m         \u001b[0;31m# Trigger any extra validation we need to do.\u001b[0m\u001b[0;34m\u001b[0m\u001b[0;34m\u001b[0m\u001b[0;34m\u001b[0m\u001b[0m\n\u001b[1;32m    375\u001b[0m         \u001b[0;32mtry\u001b[0m\u001b[0;34m:\u001b[0m\u001b[0;34m\u001b[0m\u001b[0;34m\u001b[0m\u001b[0m\n\u001b[0;32m--> 376\u001b[0;31m             \u001b[0mself\u001b[0m\u001b[0;34m.\u001b[0m\u001b[0m_validate_conn\u001b[0m\u001b[0;34m(\u001b[0m\u001b[0mconn\u001b[0m\u001b[0;34m)\u001b[0m\u001b[0;34m\u001b[0m\u001b[0;34m\u001b[0m\u001b[0m\n\u001b[0m\u001b[1;32m    377\u001b[0m         \u001b[0;32mexcept\u001b[0m \u001b[0;34m(\u001b[0m\u001b[0mSocketTimeout\u001b[0m\u001b[0;34m,\u001b[0m \u001b[0mBaseSSLError\u001b[0m\u001b[0;34m)\u001b[0m \u001b[0;32mas\u001b[0m \u001b[0me\u001b[0m\u001b[0;34m:\u001b[0m\u001b[0;34m\u001b[0m\u001b[0;34m\u001b[0m\u001b[0m\n\u001b[1;32m    378\u001b[0m             \u001b[0;31m# Py2 raises this as a BaseSSLError, Py3 raises it as socket timeout.\u001b[0m\u001b[0;34m\u001b[0m\u001b[0;34m\u001b[0m\u001b[0;34m\u001b[0m\u001b[0m\n",
            "\u001b[0;32m~/opt/anaconda3/lib/python3.7/site-packages/urllib3/connectionpool.py\u001b[0m in \u001b[0;36m_validate_conn\u001b[0;34m(self, conn)\u001b[0m\n\u001b[1;32m    992\u001b[0m         \u001b[0;31m# Force connect early to allow us to validate the connection.\u001b[0m\u001b[0;34m\u001b[0m\u001b[0;34m\u001b[0m\u001b[0;34m\u001b[0m\u001b[0m\n\u001b[1;32m    993\u001b[0m         \u001b[0;32mif\u001b[0m \u001b[0;32mnot\u001b[0m \u001b[0mgetattr\u001b[0m\u001b[0;34m(\u001b[0m\u001b[0mconn\u001b[0m\u001b[0;34m,\u001b[0m \u001b[0;34m\"sock\"\u001b[0m\u001b[0;34m,\u001b[0m \u001b[0;32mNone\u001b[0m\u001b[0;34m)\u001b[0m\u001b[0;34m:\u001b[0m  \u001b[0;31m# AppEngine might not have  `.sock`\u001b[0m\u001b[0;34m\u001b[0m\u001b[0;34m\u001b[0m\u001b[0m\n\u001b[0;32m--> 994\u001b[0;31m             \u001b[0mconn\u001b[0m\u001b[0;34m.\u001b[0m\u001b[0mconnect\u001b[0m\u001b[0;34m(\u001b[0m\u001b[0;34m)\u001b[0m\u001b[0;34m\u001b[0m\u001b[0;34m\u001b[0m\u001b[0m\n\u001b[0m\u001b[1;32m    995\u001b[0m \u001b[0;34m\u001b[0m\u001b[0m\n\u001b[1;32m    996\u001b[0m         \u001b[0;32mif\u001b[0m \u001b[0;32mnot\u001b[0m \u001b[0mconn\u001b[0m\u001b[0;34m.\u001b[0m\u001b[0mis_verified\u001b[0m\u001b[0;34m:\u001b[0m\u001b[0;34m\u001b[0m\u001b[0;34m\u001b[0m\u001b[0m\n",
            "\u001b[0;32m~/opt/anaconda3/lib/python3.7/site-packages/urllib3/connection.py\u001b[0m in \u001b[0;36mconnect\u001b[0;34m(self)\u001b[0m\n\u001b[1;32m    358\u001b[0m             \u001b[0mca_cert_dir\u001b[0m\u001b[0;34m=\u001b[0m\u001b[0mself\u001b[0m\u001b[0;34m.\u001b[0m\u001b[0mca_cert_dir\u001b[0m\u001b[0;34m,\u001b[0m\u001b[0;34m\u001b[0m\u001b[0;34m\u001b[0m\u001b[0m\n\u001b[1;32m    359\u001b[0m             \u001b[0mserver_hostname\u001b[0m\u001b[0;34m=\u001b[0m\u001b[0mserver_hostname\u001b[0m\u001b[0;34m,\u001b[0m\u001b[0;34m\u001b[0m\u001b[0;34m\u001b[0m\u001b[0m\n\u001b[0;32m--> 360\u001b[0;31m             \u001b[0mssl_context\u001b[0m\u001b[0;34m=\u001b[0m\u001b[0mcontext\u001b[0m\u001b[0;34m,\u001b[0m\u001b[0;34m\u001b[0m\u001b[0;34m\u001b[0m\u001b[0m\n\u001b[0m\u001b[1;32m    361\u001b[0m         )\n\u001b[1;32m    362\u001b[0m \u001b[0;34m\u001b[0m\u001b[0m\n",
            "\u001b[0;32m~/opt/anaconda3/lib/python3.7/site-packages/urllib3/util/ssl_.py\u001b[0m in \u001b[0;36mssl_wrap_socket\u001b[0;34m(sock, keyfile, certfile, cert_reqs, ca_certs, server_hostname, ssl_version, ciphers, ssl_context, ca_cert_dir, key_password)\u001b[0m\n\u001b[1;32m    368\u001b[0m     ) or IS_SECURETRANSPORT:\n\u001b[1;32m    369\u001b[0m         \u001b[0;32mif\u001b[0m \u001b[0mHAS_SNI\u001b[0m \u001b[0;32mand\u001b[0m \u001b[0mserver_hostname\u001b[0m \u001b[0;32mis\u001b[0m \u001b[0;32mnot\u001b[0m \u001b[0;32mNone\u001b[0m\u001b[0;34m:\u001b[0m\u001b[0;34m\u001b[0m\u001b[0;34m\u001b[0m\u001b[0m\n\u001b[0;32m--> 370\u001b[0;31m             \u001b[0;32mreturn\u001b[0m \u001b[0mcontext\u001b[0m\u001b[0;34m.\u001b[0m\u001b[0mwrap_socket\u001b[0m\u001b[0;34m(\u001b[0m\u001b[0msock\u001b[0m\u001b[0;34m,\u001b[0m \u001b[0mserver_hostname\u001b[0m\u001b[0;34m=\u001b[0m\u001b[0mserver_hostname\u001b[0m\u001b[0;34m)\u001b[0m\u001b[0;34m\u001b[0m\u001b[0;34m\u001b[0m\u001b[0m\n\u001b[0m\u001b[1;32m    371\u001b[0m \u001b[0;34m\u001b[0m\u001b[0m\n\u001b[1;32m    372\u001b[0m         warnings.warn(\n",
            "\u001b[0;32m~/opt/anaconda3/lib/python3.7/site-packages/urllib3/contrib/pyopenssl.py\u001b[0m in \u001b[0;36mwrap_socket\u001b[0;34m(self, sock, server_side, do_handshake_on_connect, suppress_ragged_eofs, server_hostname)\u001b[0m\n\u001b[1;32m    483\u001b[0m         \u001b[0;32mwhile\u001b[0m \u001b[0;32mTrue\u001b[0m\u001b[0;34m:\u001b[0m\u001b[0;34m\u001b[0m\u001b[0;34m\u001b[0m\u001b[0m\n\u001b[1;32m    484\u001b[0m             \u001b[0;32mtry\u001b[0m\u001b[0;34m:\u001b[0m\u001b[0;34m\u001b[0m\u001b[0;34m\u001b[0m\u001b[0m\n\u001b[0;32m--> 485\u001b[0;31m                 \u001b[0mcnx\u001b[0m\u001b[0;34m.\u001b[0m\u001b[0mdo_handshake\u001b[0m\u001b[0;34m(\u001b[0m\u001b[0;34m)\u001b[0m\u001b[0;34m\u001b[0m\u001b[0;34m\u001b[0m\u001b[0m\n\u001b[0m\u001b[1;32m    486\u001b[0m             \u001b[0;32mexcept\u001b[0m \u001b[0mOpenSSL\u001b[0m\u001b[0;34m.\u001b[0m\u001b[0mSSL\u001b[0m\u001b[0;34m.\u001b[0m\u001b[0mWantReadError\u001b[0m\u001b[0;34m:\u001b[0m\u001b[0;34m\u001b[0m\u001b[0;34m\u001b[0m\u001b[0m\n\u001b[1;32m    487\u001b[0m                 \u001b[0;32mif\u001b[0m \u001b[0;32mnot\u001b[0m \u001b[0mutil\u001b[0m\u001b[0;34m.\u001b[0m\u001b[0mwait_for_read\u001b[0m\u001b[0;34m(\u001b[0m\u001b[0msock\u001b[0m\u001b[0;34m,\u001b[0m \u001b[0msock\u001b[0m\u001b[0;34m.\u001b[0m\u001b[0mgettimeout\u001b[0m\u001b[0;34m(\u001b[0m\u001b[0;34m)\u001b[0m\u001b[0;34m)\u001b[0m\u001b[0;34m:\u001b[0m\u001b[0;34m\u001b[0m\u001b[0;34m\u001b[0m\u001b[0m\n",
            "\u001b[0;32m~/opt/anaconda3/lib/python3.7/site-packages/OpenSSL/SSL.py\u001b[0m in \u001b[0;36mdo_handshake\u001b[0;34m(self)\u001b[0m\n\u001b[1;32m   1931\u001b[0m         \u001b[0;34m:\u001b[0m\u001b[0;32mreturn\u001b[0m\u001b[0;34m:\u001b[0m \u001b[0;32mNone\u001b[0m\u001b[0;34m.\u001b[0m\u001b[0;34m\u001b[0m\u001b[0;34m\u001b[0m\u001b[0m\n\u001b[1;32m   1932\u001b[0m         \"\"\"\n\u001b[0;32m-> 1933\u001b[0;31m         \u001b[0mresult\u001b[0m \u001b[0;34m=\u001b[0m \u001b[0m_lib\u001b[0m\u001b[0;34m.\u001b[0m\u001b[0mSSL_do_handshake\u001b[0m\u001b[0;34m(\u001b[0m\u001b[0mself\u001b[0m\u001b[0;34m.\u001b[0m\u001b[0m_ssl\u001b[0m\u001b[0;34m)\u001b[0m\u001b[0;34m\u001b[0m\u001b[0;34m\u001b[0m\u001b[0m\n\u001b[0m\u001b[1;32m   1934\u001b[0m         \u001b[0mself\u001b[0m\u001b[0;34m.\u001b[0m\u001b[0m_raise_ssl_error\u001b[0m\u001b[0;34m(\u001b[0m\u001b[0mself\u001b[0m\u001b[0;34m.\u001b[0m\u001b[0m_ssl\u001b[0m\u001b[0;34m,\u001b[0m \u001b[0mresult\u001b[0m\u001b[0;34m)\u001b[0m\u001b[0;34m\u001b[0m\u001b[0;34m\u001b[0m\u001b[0m\n\u001b[1;32m   1935\u001b[0m \u001b[0;34m\u001b[0m\u001b[0m\n",
            "\u001b[0;31mKeyboardInterrupt\u001b[0m: "
          ]
        }
      ],
      "source": [
        "import requests\n",
        "import cProfile\n",
        "\n",
        "\n",
        "def facebook():\n",
        "    requests.get('https://facebook.com')\n",
        "\n",
        "\n",
        "def google():\n",
        "    requests.get('https://google.com')\n",
        "def twitter():\n",
        "    requests.get('https://twitter.com')\n",
        "def vk():\n",
        "    requests.get('https://vk.com')\n",
        "\n",
        "\n",
        "def main():\n",
        "    facebook()\n",
        "    google()\n",
        "    twitter()\n",
        "    vk()\n",
        "\n",
        "cProfile.run('main()')"
      ]
    },
    {
      "cell_type": "markdown",
      "metadata": {
        "id": "3DyYEueSPgV8"
      },
      "source": [
        "memory_profiler\n",
        "=====\n",
        "\n",
        "1. `pip install memory_profiler`"
      ]
    },
    {
      "cell_type": "code",
      "execution_count": null,
      "metadata": {
        "colab": {
          "base_uri": "https://localhost:8080/",
          "height": 483
        },
        "id": "KXP-f6f-PgV8",
        "outputId": "d6e2365e-908c-49e9-cc63-f85933629bfe"
      },
      "outputs": [
        {
          "output_type": "error",
          "ename": "ModuleNotFoundError",
          "evalue": "ignored",
          "traceback": [
            "\u001b[0;31m---------------------------------------------------------------------------\u001b[0m",
            "\u001b[0;31mModuleNotFoundError\u001b[0m                       Traceback (most recent call last)",
            "\u001b[0;32m<ipython-input-7-211cc1ac719c>\u001b[0m in \u001b[0;36m<cell line: 1>\u001b[0;34m()\u001b[0m\n\u001b[0;32m----> 1\u001b[0;31m \u001b[0mget_ipython\u001b[0m\u001b[0;34m(\u001b[0m\u001b[0;34m)\u001b[0m\u001b[0;34m.\u001b[0m\u001b[0mrun_line_magic\u001b[0m\u001b[0;34m(\u001b[0m\u001b[0;34m'load_ext'\u001b[0m\u001b[0;34m,\u001b[0m \u001b[0;34m'memory_profiler'\u001b[0m\u001b[0;34m)\u001b[0m\u001b[0;34m\u001b[0m\u001b[0;34m\u001b[0m\u001b[0m\n\u001b[0m",
            "\u001b[0;32m/usr/local/lib/python3.10/dist-packages/IPython/core/interactiveshell.py\u001b[0m in \u001b[0;36mrun_line_magic\u001b[0;34m(self, magic_name, line, _stack_depth)\u001b[0m\n\u001b[1;32m   2416\u001b[0m                 \u001b[0mkwargs\u001b[0m\u001b[0;34m[\u001b[0m\u001b[0;34m'local_ns'\u001b[0m\u001b[0;34m]\u001b[0m \u001b[0;34m=\u001b[0m \u001b[0mself\u001b[0m\u001b[0;34m.\u001b[0m\u001b[0mget_local_scope\u001b[0m\u001b[0;34m(\u001b[0m\u001b[0mstack_depth\u001b[0m\u001b[0;34m)\u001b[0m\u001b[0;34m\u001b[0m\u001b[0;34m\u001b[0m\u001b[0m\n\u001b[1;32m   2417\u001b[0m             \u001b[0;32mwith\u001b[0m \u001b[0mself\u001b[0m\u001b[0;34m.\u001b[0m\u001b[0mbuiltin_trap\u001b[0m\u001b[0;34m:\u001b[0m\u001b[0;34m\u001b[0m\u001b[0;34m\u001b[0m\u001b[0m\n\u001b[0;32m-> 2418\u001b[0;31m                 \u001b[0mresult\u001b[0m \u001b[0;34m=\u001b[0m \u001b[0mfn\u001b[0m\u001b[0;34m(\u001b[0m\u001b[0;34m*\u001b[0m\u001b[0margs\u001b[0m\u001b[0;34m,\u001b[0m \u001b[0;34m**\u001b[0m\u001b[0mkwargs\u001b[0m\u001b[0;34m)\u001b[0m\u001b[0;34m\u001b[0m\u001b[0;34m\u001b[0m\u001b[0m\n\u001b[0m\u001b[1;32m   2419\u001b[0m             \u001b[0;32mreturn\u001b[0m \u001b[0mresult\u001b[0m\u001b[0;34m\u001b[0m\u001b[0;34m\u001b[0m\u001b[0m\n\u001b[1;32m   2420\u001b[0m \u001b[0;34m\u001b[0m\u001b[0m\n",
            "\u001b[0;32m<decorator-gen-57>\u001b[0m in \u001b[0;36mload_ext\u001b[0;34m(self, module_str)\u001b[0m\n",
            "\u001b[0;32m/usr/local/lib/python3.10/dist-packages/IPython/core/magic.py\u001b[0m in \u001b[0;36m<lambda>\u001b[0;34m(f, *a, **k)\u001b[0m\n\u001b[1;32m    185\u001b[0m     \u001b[0;31m# but it's overkill for just that one bit of state.\u001b[0m\u001b[0;34m\u001b[0m\u001b[0;34m\u001b[0m\u001b[0m\n\u001b[1;32m    186\u001b[0m     \u001b[0;32mdef\u001b[0m \u001b[0mmagic_deco\u001b[0m\u001b[0;34m(\u001b[0m\u001b[0marg\u001b[0m\u001b[0;34m)\u001b[0m\u001b[0;34m:\u001b[0m\u001b[0;34m\u001b[0m\u001b[0;34m\u001b[0m\u001b[0m\n\u001b[0;32m--> 187\u001b[0;31m         \u001b[0mcall\u001b[0m \u001b[0;34m=\u001b[0m \u001b[0;32mlambda\u001b[0m \u001b[0mf\u001b[0m\u001b[0;34m,\u001b[0m \u001b[0;34m*\u001b[0m\u001b[0ma\u001b[0m\u001b[0;34m,\u001b[0m \u001b[0;34m**\u001b[0m\u001b[0mk\u001b[0m\u001b[0;34m:\u001b[0m \u001b[0mf\u001b[0m\u001b[0;34m(\u001b[0m\u001b[0;34m*\u001b[0m\u001b[0ma\u001b[0m\u001b[0;34m,\u001b[0m \u001b[0;34m**\u001b[0m\u001b[0mk\u001b[0m\u001b[0;34m)\u001b[0m\u001b[0;34m\u001b[0m\u001b[0;34m\u001b[0m\u001b[0m\n\u001b[0m\u001b[1;32m    188\u001b[0m \u001b[0;34m\u001b[0m\u001b[0m\n\u001b[1;32m    189\u001b[0m         \u001b[0;32mif\u001b[0m \u001b[0mcallable\u001b[0m\u001b[0;34m(\u001b[0m\u001b[0marg\u001b[0m\u001b[0;34m)\u001b[0m\u001b[0;34m:\u001b[0m\u001b[0;34m\u001b[0m\u001b[0;34m\u001b[0m\u001b[0m\n",
            "\u001b[0;32m/usr/local/lib/python3.10/dist-packages/IPython/core/magics/extension.py\u001b[0m in \u001b[0;36mload_ext\u001b[0;34m(self, module_str)\u001b[0m\n\u001b[1;32m     31\u001b[0m         \u001b[0;32mif\u001b[0m \u001b[0;32mnot\u001b[0m \u001b[0mmodule_str\u001b[0m\u001b[0;34m:\u001b[0m\u001b[0;34m\u001b[0m\u001b[0;34m\u001b[0m\u001b[0m\n\u001b[1;32m     32\u001b[0m             \u001b[0;32mraise\u001b[0m \u001b[0mUsageError\u001b[0m\u001b[0;34m(\u001b[0m\u001b[0;34m'Missing module name.'\u001b[0m\u001b[0;34m)\u001b[0m\u001b[0;34m\u001b[0m\u001b[0;34m\u001b[0m\u001b[0m\n\u001b[0;32m---> 33\u001b[0;31m         \u001b[0mres\u001b[0m \u001b[0;34m=\u001b[0m \u001b[0mself\u001b[0m\u001b[0;34m.\u001b[0m\u001b[0mshell\u001b[0m\u001b[0;34m.\u001b[0m\u001b[0mextension_manager\u001b[0m\u001b[0;34m.\u001b[0m\u001b[0mload_extension\u001b[0m\u001b[0;34m(\u001b[0m\u001b[0mmodule_str\u001b[0m\u001b[0;34m)\u001b[0m\u001b[0;34m\u001b[0m\u001b[0;34m\u001b[0m\u001b[0m\n\u001b[0m\u001b[1;32m     34\u001b[0m \u001b[0;34m\u001b[0m\u001b[0m\n\u001b[1;32m     35\u001b[0m         \u001b[0;32mif\u001b[0m \u001b[0mres\u001b[0m \u001b[0;34m==\u001b[0m \u001b[0;34m'already loaded'\u001b[0m\u001b[0;34m:\u001b[0m\u001b[0;34m\u001b[0m\u001b[0;34m\u001b[0m\u001b[0m\n",
            "\u001b[0;32m/usr/local/lib/python3.10/dist-packages/IPython/core/extensions.py\u001b[0m in \u001b[0;36mload_extension\u001b[0;34m(self, module_str)\u001b[0m\n\u001b[1;32m     78\u001b[0m             \u001b[0;32mif\u001b[0m \u001b[0mmodule_str\u001b[0m \u001b[0;32mnot\u001b[0m \u001b[0;32min\u001b[0m \u001b[0msys\u001b[0m\u001b[0;34m.\u001b[0m\u001b[0mmodules\u001b[0m\u001b[0;34m:\u001b[0m\u001b[0;34m\u001b[0m\u001b[0;34m\u001b[0m\u001b[0m\n\u001b[1;32m     79\u001b[0m                 \u001b[0;32mwith\u001b[0m \u001b[0mprepended_to_syspath\u001b[0m\u001b[0;34m(\u001b[0m\u001b[0mself\u001b[0m\u001b[0;34m.\u001b[0m\u001b[0mipython_extension_dir\u001b[0m\u001b[0;34m)\u001b[0m\u001b[0;34m:\u001b[0m\u001b[0;34m\u001b[0m\u001b[0;34m\u001b[0m\u001b[0m\n\u001b[0;32m---> 80\u001b[0;31m                     \u001b[0mmod\u001b[0m \u001b[0;34m=\u001b[0m \u001b[0mimport_module\u001b[0m\u001b[0;34m(\u001b[0m\u001b[0mmodule_str\u001b[0m\u001b[0;34m)\u001b[0m\u001b[0;34m\u001b[0m\u001b[0;34m\u001b[0m\u001b[0m\n\u001b[0m\u001b[1;32m     81\u001b[0m                     \u001b[0;32mif\u001b[0m \u001b[0mmod\u001b[0m\u001b[0;34m.\u001b[0m\u001b[0m__file__\u001b[0m\u001b[0;34m.\u001b[0m\u001b[0mstartswith\u001b[0m\u001b[0;34m(\u001b[0m\u001b[0mself\u001b[0m\u001b[0;34m.\u001b[0m\u001b[0mipython_extension_dir\u001b[0m\u001b[0;34m)\u001b[0m\u001b[0;34m:\u001b[0m\u001b[0;34m\u001b[0m\u001b[0;34m\u001b[0m\u001b[0m\n\u001b[1;32m     82\u001b[0m                         print((\"Loading extensions from {dir} is deprecated. \"\n",
            "\u001b[0;32m/usr/lib/python3.10/importlib/__init__.py\u001b[0m in \u001b[0;36mimport_module\u001b[0;34m(name, package)\u001b[0m\n\u001b[1;32m    124\u001b[0m                 \u001b[0;32mbreak\u001b[0m\u001b[0;34m\u001b[0m\u001b[0;34m\u001b[0m\u001b[0m\n\u001b[1;32m    125\u001b[0m             \u001b[0mlevel\u001b[0m \u001b[0;34m+=\u001b[0m \u001b[0;36m1\u001b[0m\u001b[0;34m\u001b[0m\u001b[0;34m\u001b[0m\u001b[0m\n\u001b[0;32m--> 126\u001b[0;31m     \u001b[0;32mreturn\u001b[0m \u001b[0m_bootstrap\u001b[0m\u001b[0;34m.\u001b[0m\u001b[0m_gcd_import\u001b[0m\u001b[0;34m(\u001b[0m\u001b[0mname\u001b[0m\u001b[0;34m[\u001b[0m\u001b[0mlevel\u001b[0m\u001b[0;34m:\u001b[0m\u001b[0;34m]\u001b[0m\u001b[0;34m,\u001b[0m \u001b[0mpackage\u001b[0m\u001b[0;34m,\u001b[0m \u001b[0mlevel\u001b[0m\u001b[0;34m)\u001b[0m\u001b[0;34m\u001b[0m\u001b[0;34m\u001b[0m\u001b[0m\n\u001b[0m\u001b[1;32m    127\u001b[0m \u001b[0;34m\u001b[0m\u001b[0m\n\u001b[1;32m    128\u001b[0m \u001b[0;34m\u001b[0m\u001b[0m\n",
            "\u001b[0;32m/usr/lib/python3.10/importlib/_bootstrap.py\u001b[0m in \u001b[0;36m_gcd_import\u001b[0;34m(name, package, level)\u001b[0m\n",
            "\u001b[0;32m/usr/lib/python3.10/importlib/_bootstrap.py\u001b[0m in \u001b[0;36m_find_and_load\u001b[0;34m(name, import_)\u001b[0m\n",
            "\u001b[0;32m/usr/lib/python3.10/importlib/_bootstrap.py\u001b[0m in \u001b[0;36m_find_and_load_unlocked\u001b[0;34m(name, import_)\u001b[0m\n",
            "\u001b[0;31mModuleNotFoundError\u001b[0m: No module named 'memory_profiler'",
            "",
            "\u001b[0;31m---------------------------------------------------------------------------\u001b[0;32m\nNOTE: If your import is failing due to a missing package, you can\nmanually install dependencies using either !pip or !apt.\n\nTo view examples of installing some common dependencies, click the\n\"Open Examples\" button below.\n\u001b[0;31m---------------------------------------------------------------------------\u001b[0m\n"
          ],
          "errorDetails": {
            "actions": [
              {
                "action": "open_url",
                "actionText": "Open Examples",
                "url": "/notebooks/snippets/importing_libraries.ipynb"
              }
            ]
          }
        }
      ],
      "source": [
        "%load_ext memory_profiler"
      ]
    },
    {
      "cell_type": "code",
      "source": [
        "!pip install memory_profiler"
      ],
      "metadata": {
        "colab": {
          "base_uri": "https://localhost:8080/"
        },
        "id": "Eghe6TagVAmz",
        "outputId": "d69aeaf2-9bae-4d87-8903-12080a6a65a3"
      },
      "execution_count": null,
      "outputs": [
        {
          "output_type": "stream",
          "name": "stdout",
          "text": [
            "Collecting memory_profiler\n",
            "  Downloading memory_profiler-0.61.0-py3-none-any.whl (31 kB)\n",
            "Requirement already satisfied: psutil in /usr/local/lib/python3.10/dist-packages (from memory_profiler) (5.9.5)\n",
            "Installing collected packages: memory_profiler\n",
            "Successfully installed memory_profiler-0.61.0\n"
          ]
        }
      ]
    },
    {
      "cell_type": "code",
      "execution_count": null,
      "metadata": {
        "id": "ltTiyRaCPgV8"
      },
      "outputs": [],
      "source": [
        "import numpy as np"
      ]
    },
    {
      "cell_type": "code",
      "execution_count": null,
      "metadata": {
        "colab": {
          "base_uri": "https://localhost:8080/"
        },
        "id": "bUqtP1M1PgV8",
        "outputId": "a7fe592d-1e07-4681-d1ca-bf49ae69a830"
      },
      "outputs": [
        {
          "output_type": "stream",
          "name": "stderr",
          "text": [
            "UsageError: Line magic function `%memit` not found.\n"
          ]
        }
      ],
      "source": [
        "%memit a = np.linspace(0, 1, 10)"
      ]
    },
    {
      "cell_type": "code",
      "execution_count": null,
      "metadata": {
        "id": "XZmbIvvUPgV9",
        "outputId": "c7903567-6670-4fc4-dcb6-daf9ba545a45"
      },
      "outputs": [
        {
          "data": {
            "text/plain": [
              "400000000"
            ]
          },
          "execution_count": 40,
          "metadata": {},
          "output_type": "execute_result"
        }
      ],
      "source": []
    },
    {
      "cell_type": "code",
      "execution_count": null,
      "metadata": {
        "id": "dOYimD_bPgV9"
      },
      "outputs": [],
      "source": [
        "from functools import reduce"
      ]
    },
    {
      "cell_type": "code",
      "source": [
        "x = np.linspace(0, 1000, 1000, endpoint=False)"
      ],
      "metadata": {
        "id": "Zb0k_c83VymX"
      },
      "execution_count": null,
      "outputs": []
    },
    {
      "cell_type": "code",
      "source": [
        "def add(a, b):\n",
        "  return a + b"
      ],
      "metadata": {
        "id": "C9iLBZM1V3LO"
      },
      "execution_count": null,
      "outputs": []
    },
    {
      "cell_type": "markdown",
      "source": [],
      "metadata": {
        "id": "OkuKYfaYWKUs"
      }
    },
    {
      "cell_type": "code",
      "source": [
        "%%timeit\n",
        "reduce(add, x)"
      ],
      "metadata": {
        "colab": {
          "base_uri": "https://localhost:8080/"
        },
        "id": "bG7D_nU9V3t8",
        "outputId": "a2d6fcf1-23b1-4243-9580-796f1b1762e8"
      },
      "execution_count": null,
      "outputs": [
        {
          "output_type": "stream",
          "name": "stdout",
          "text": [
            "184 µs ± 55.1 µs per loop (mean ± std. dev. of 7 runs, 10000 loops each)\n"
          ]
        }
      ]
    },
    {
      "cell_type": "code",
      "source": [
        "%%timeit\n",
        "res = 0\n",
        "for el in x:\n",
        "    res = res + el"
      ],
      "metadata": {
        "colab": {
          "base_uri": "https://localhost:8080/"
        },
        "id": "JhoFbr6MWOtH",
        "outputId": "63a3f15e-377a-4e66-cc6d-b91bed6856b3"
      },
      "execution_count": null,
      "outputs": [
        {
          "output_type": "stream",
          "name": "stdout",
          "text": [
            "139 µs ± 33.9 µs per loop (mean ± std. dev. of 7 runs, 10000 loops each)\n"
          ]
        }
      ]
    },
    {
      "cell_type": "code",
      "source": [
        "def my_reduce(fun, x):\n",
        "    res = 0\n",
        "    for el in x:\n",
        "        res = fun(res, el)"
      ],
      "metadata": {
        "id": "E-lVdgaKWfl_"
      },
      "execution_count": null,
      "outputs": []
    },
    {
      "cell_type": "code",
      "source": [
        "%%timeit\n",
        "my_reduce(add, x)"
      ],
      "metadata": {
        "colab": {
          "base_uri": "https://localhost:8080/"
        },
        "id": "46TdvhgyWgLR",
        "outputId": "7dba8e13-2759-44a5-c4fa-2bb769a24dae"
      },
      "execution_count": null,
      "outputs": [
        {
          "output_type": "stream",
          "name": "stdout",
          "text": [
            "208 µs ± 55.4 µs per loop (mean ± std. dev. of 7 runs, 10000 loops each)\n"
          ]
        }
      ]
    },
    {
      "cell_type": "code",
      "source": [],
      "metadata": {
        "id": "PXYzj_L3Xbx9"
      },
      "execution_count": null,
      "outputs": []
    }
  ],
  "metadata": {
    "celltoolbar": "Slideshow",
    "kernelspec": {
      "display_name": "Python 3",
      "language": "python",
      "name": "python3"
    },
    "language_info": {
      "codemirror_mode": {
        "name": "ipython",
        "version": 3
      },
      "file_extension": ".py",
      "mimetype": "text/x-python",
      "name": "python",
      "nbconvert_exporter": "python",
      "pygments_lexer": "ipython3",
      "version": "3.7.4"
    },
    "colab": {
      "provenance": []
    }
  },
  "nbformat": 4,
  "nbformat_minor": 0
}