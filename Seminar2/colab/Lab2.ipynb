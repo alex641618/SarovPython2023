{
  "nbformat": 4,
  "nbformat_minor": 0,
  "metadata": {
    "colab": {
      "provenance": []
    },
    "kernelspec": {
      "name": "python3",
      "display_name": "Python 3"
    },
    "language_info": {
      "name": "python"
    }
  },
  "cells": [
    {
      "cell_type": "markdown",
      "source": [
        "Лабораторная работа 2.\n",
        "\n",
        "Задание 1. Бифуркации, рыбы, логистическое отображение\n",
        "------\n",
        "\n",
        "Видео про логистическое отображение (engl):\n",
        "\n",
        "https://www.youtube.com/watch?v=ovJcsL7vyrk\n",
        "\n",
        "Дано:\n",
        "\n",
        "$r$ - некая константа\n",
        "\n",
        "$x_0 \\in [0,1]$\n",
        "\n",
        "Отображение:\n",
        "\n",
        "$x_{n+1} = r x_n(1-x_n)$\n",
        "\n",
        "Задания:\n",
        "\n",
        "1. Для разных значений $x_0$ и $r$ нарисовать эволюцию $x$, поиграть с разными значениями, увидеть разницу в динамике.\n",
        "2. Создайте `linspace` значений $r$, для каждого значения $r$ и выбранного значения $x_0$ разыграйте эволюцию, сохраните последние $m$ значений $x$ после первых $n$ итераций, например последние 50 значений после 100 начальных итераций.\n",
        "3. Постройте бифуркационную картину\n",
        "\n",
        "![alt text](https://upload.wikimedia.org/wikipedia/commons/thumb/7/7d/LogisticMap_BifurcationDiagram.png/1600px-LogisticMap_BifurcationDiagram.png)"
      ],
      "metadata": {
        "id": "FQ-5zQToz5ay"
      }
    },
    {
      "cell_type": "code",
      "source": [
        "def logistic_map_step(x, r):\n",
        "    return r * x * (1 - x)\n",
        "\n",
        "'''\n",
        "your implementation\n",
        "'''"
      ],
      "metadata": {
        "colab": {
          "base_uri": "https://localhost:8080/",
          "height": 36
        },
        "id": "26fs99te2P8r",
        "outputId": "b5489161-94bb-4071-f0c6-7e3955864195"
      },
      "execution_count": null,
      "outputs": [
        {
          "output_type": "execute_result",
          "data": {
            "text/plain": [
              "'\\nyour implementation\\n'"
            ],
            "application/vnd.google.colaboratory.intrinsic+json": {
              "type": "string"
            }
          },
          "metadata": {},
          "execution_count": 2
        }
      ]
    },
    {
      "cell_type": "markdown",
      "source": [
        "Задание 2. Фрактал Жулиа\n",
        "-------\n",
        "\n",
        "Очень похожее отображение, только в комплексных числах.\n",
        "\n",
        "$z_0 \\in \\mathbb{C}$\n",
        "\n",
        "$C \\in \\mathbb{C}$\n",
        "\n",
        "$z_{n+1} = z_n^2 + C$\n",
        "\n",
        "Пошаговая инструкция:\n",
        "\n",
        "1. Сделайте отображение, посмотрите на динамику $z$ для какого-то выбранного $C$.\n",
        "2. Меняя значения $z_0$ посмотрите на различия в динамике.\n",
        "3. Задайте двумерную матрицу отображающую числа $z_0$ c Re от -2, 2 и Im от -2, 2. Для каждой точки матрицы (она отвечает какому-то значению $z_0 = Re + Im$) делаем динамику 'max_iter' число раз. Если модуль числа $z$ на каком-то шаге становится больше 2 (можно менять), то возвращаем итерацию на которой это произошло. Если нет, то возвращаем 'max_iter'\n",
        "4. Рисуем фрактал\n",
        "\n",
        "Задания:\n",
        "\n",
        "* Для $c=e^{ia}$, где `a = range(0, 2pi)` сделайте анимацию изменения фрактала:\n",
        "\n",
        "https://stackoverflow.com/questions/753190/programmatically-generate-video-or-animated-gif-in-python\n"
      ],
      "metadata": {
        "id": "McxoY9p72mpj"
      }
    },
    {
      "cell_type": "code",
      "source": [],
      "metadata": {
        "id": "qjSsP9Jd4Bh_"
      },
      "execution_count": null,
      "outputs": []
    }
  ]
}