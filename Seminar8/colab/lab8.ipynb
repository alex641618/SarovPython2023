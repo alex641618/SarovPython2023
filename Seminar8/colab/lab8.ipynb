{
  "nbformat": 4,
  "nbformat_minor": 0,
  "metadata": {
    "colab": {
      "provenance": []
    },
    "kernelspec": {
      "name": "python3",
      "display_name": "Python 3"
    },
    "language_info": {
      "name": "python"
    },
    "accelerator": "GPU",
    "gpuClass": "standard"
  },
  "cells": [
    {
      "cell_type": "code",
      "execution_count": null,
      "metadata": {
        "colab": {
          "base_uri": "https://localhost:8080/"
        },
        "id": "SnUV5K2E3fHA",
        "outputId": "96b6df24-6c36-4ba8-8268-b71fb8d43b15"
      },
      "outputs": [
        {
          "output_type": "stream",
          "name": "stdout",
          "text": [
            "Wed Nov  8 11:53:18 2023       \n",
            "+-----------------------------------------------------------------------------+\n",
            "| NVIDIA-SMI 525.105.17   Driver Version: 525.105.17   CUDA Version: 12.0     |\n",
            "|-------------------------------+----------------------+----------------------+\n",
            "| GPU  Name        Persistence-M| Bus-Id        Disp.A | Volatile Uncorr. ECC |\n",
            "| Fan  Temp  Perf  Pwr:Usage/Cap|         Memory-Usage | GPU-Util  Compute M. |\n",
            "|                               |                      |               MIG M. |\n",
            "|===============================+======================+======================|\n",
            "|   0  Tesla T4            Off  | 00000000:00:04.0 Off |                    0 |\n",
            "| N/A   52C    P8    11W /  70W |      0MiB / 15360MiB |      0%      Default |\n",
            "|                               |                      |                  N/A |\n",
            "+-------------------------------+----------------------+----------------------+\n",
            "                                                                               \n",
            "+-----------------------------------------------------------------------------+\n",
            "| Processes:                                                                  |\n",
            "|  GPU   GI   CI        PID   Type   Process name                  GPU Memory |\n",
            "|        ID   ID                                                   Usage      |\n",
            "|=============================================================================|\n",
            "|  No running processes found                                                 |\n",
            "+-----------------------------------------------------------------------------+\n"
          ]
        }
      ],
      "source": [
        "!nvidia-smi"
      ]
    },
    {
      "cell_type": "code",
      "source": [
        "import locale\n",
        "locale.getpreferredencoding = lambda: \"UTF-8\""
      ],
      "metadata": {
        "id": "-DG-w3xEam8p"
      },
      "execution_count": null,
      "outputs": []
    },
    {
      "cell_type": "code",
      "source": [
        "import cupy as cp\n",
        "import numpy as np"
      ],
      "metadata": {
        "id": "EAXI1uzW31-X"
      },
      "execution_count": null,
      "outputs": []
    },
    {
      "cell_type": "code",
      "source": [
        "d_a = cp.linspace(0, 2**20, 2**20, dtype = cp.float32)\n",
        "d_b = cp.linspace(0, 2**20, 2**20, dtype = cp.float32)\n",
        "\n",
        "d_c = d_a + d_b\n",
        "d_c = 2*d_c\n",
        "d_c = 5*d_c + d_b\n",
        "\n",
        "h_c = d_c.get()"
      ],
      "metadata": {
        "id": "g2OAR-iv397k"
      },
      "execution_count": null,
      "outputs": []
    },
    {
      "cell_type": "code",
      "source": [
        "print(d_c[5])   # BEWARE"
      ],
      "metadata": {
        "colab": {
          "base_uri": "https://localhost:8080/"
        },
        "id": "_rhHkoiyaxVx",
        "outputId": "e1e2ae48-8649-425b-beb5-445c4927cbbf"
      },
      "execution_count": null,
      "outputs": [
        {
          "output_type": "stream",
          "name": "stdout",
          "text": [
            "105.0001\n"
          ]
        }
      ]
    },
    {
      "cell_type": "code",
      "source": [
        "%%timeit\n",
        "\n",
        "d_a = cp.random.rand(10,10)\n",
        "d_a = d_a.astype(cp.float32)\n",
        "\n",
        "d_b = cp.random.rand(10,10)\n",
        "d_b = d_b.astype(cp.float32)\n",
        "\n",
        "d_c = d_a @ d_b\n",
        "\n",
        "h_c = d_c.get()"
      ],
      "metadata": {
        "id": "PWpsnBPD4Evt",
        "colab": {
          "base_uri": "https://localhost:8080/"
        },
        "outputId": "886b51b1-0bf9-42f2-b858-29f463cf68d3"
      },
      "execution_count": null,
      "outputs": [
        {
          "output_type": "stream",
          "name": "stdout",
          "text": [
            "194 µs ± 30.5 µs per loop (mean ± std. dev. of 7 runs, 10000 loops each)\n"
          ]
        }
      ]
    },
    {
      "cell_type": "code",
      "source": [
        "%%timeit\n",
        "\n",
        "h_a = np.random.rand(10,10)\n",
        "h_a = h_a.astype(np.float32)\n",
        "\n",
        "h_b = np.random.rand(10,10)\n",
        "h_b = h_b.astype(np.float32)\n",
        "\n",
        "h_c = h_a @ h_b\n",
        "\n",
        "#h_c = d_c.get()"
      ],
      "metadata": {
        "colab": {
          "base_uri": "https://localhost:8080/"
        },
        "id": "3tXQtrbvbltR",
        "outputId": "e76d7798-036f-4150-ee29-c9a68097a07f"
      },
      "execution_count": null,
      "outputs": [
        {
          "output_type": "stream",
          "name": "stdout",
          "text": [
            "9.37 µs ± 2.57 µs per loop (mean ± std. dev. of 7 runs, 100000 loops each)\n"
          ]
        }
      ]
    },
    {
      "cell_type": "code",
      "source": [
        "print(h_c)"
      ],
      "metadata": {
        "colab": {
          "base_uri": "https://localhost:8080/"
        },
        "id": "ce0L3dfi4HSt",
        "outputId": "9ebd8195-89fd-431c-b91b-acd2006db064"
      },
      "execution_count": null,
      "outputs": [
        {
          "output_type": "stream",
          "name": "stdout",
          "text": [
            "[0.000000e+00 2.000002e+00 4.000004e+00 ... 2.097148e+06 2.097150e+06\n",
            " 2.097152e+06]\n"
          ]
        }
      ]
    },
    {
      "cell_type": "code",
      "source": [
        "%%timeit\n",
        "h_a = np.linspace(0, 2**20, 2**20, dtype = np.float32)\n",
        "h_b = np.linspace(0, 2**20, 2**20, dtype = np.float32)\n",
        "\n",
        "h_c = h_a + h_b"
      ],
      "metadata": {
        "colab": {
          "base_uri": "https://localhost:8080/"
        },
        "id": "NAoO_mWa4u3L",
        "outputId": "c03deecf-f9bd-4016-a97a-79ca1e92714d"
      },
      "execution_count": null,
      "outputs": [
        {
          "output_type": "stream",
          "name": "stdout",
          "text": [
            "6.57 ms ± 120 µs per loop (mean ± std. dev. of 7 runs, 100 loops each)\n"
          ]
        }
      ]
    },
    {
      "cell_type": "code",
      "source": [
        "6.84 / 0.232"
      ],
      "metadata": {
        "colab": {
          "base_uri": "https://localhost:8080/"
        },
        "id": "AecfoEV45G1M",
        "outputId": "321a16f5-8944-47ec-811e-1a35498b8cec"
      },
      "execution_count": null,
      "outputs": [
        {
          "output_type": "execute_result",
          "data": {
            "text/plain": [
              "29.482758620689655"
            ]
          },
          "metadata": {},
          "execution_count": 17
        }
      ]
    },
    {
      "cell_type": "code",
      "source": [
        "%%timeit\n",
        "d_a = cp.random.randn(1024, 1024, dtype = cp.float32)\n",
        "d_b = cp.random.randn(1024, 1024, dtype = cp.float32)\n",
        "\n",
        "d_c = d_a @ d_b"
      ],
      "metadata": {
        "colab": {
          "base_uri": "https://localhost:8080/"
        },
        "id": "DjBNsrQZ5M5B",
        "outputId": "fbb7cee8-4a12-4505-b862-21c355927f6f"
      },
      "execution_count": null,
      "outputs": [
        {
          "output_type": "stream",
          "name": "stdout",
          "text": [
            "733 µs ± 9.94 µs per loop (mean ± std. dev. of 7 runs, 1000 loops each)\n"
          ]
        }
      ]
    },
    {
      "cell_type": "code",
      "source": [
        "%%timeit\n",
        "h_a = np.random.randn(1024, 1024, dtype = np.float32)\n",
        "h_b = np.random.randn(1024, 1024, dtype = np.float32)\n",
        "\n",
        "h_c = h_a @ h_b"
      ],
      "metadata": {
        "id": "6KOwVwrn5bYy"
      },
      "execution_count": null,
      "outputs": []
    },
    {
      "cell_type": "code",
      "source": [
        "%%timeit\n",
        "h_a = np.random.rand(1000,1000)\n",
        "h_a = h_a.astype(np.float32)\n",
        "\n",
        "h_b = np.random.rand(1000,1000)\n",
        "h_b = h_b.astype(np.float32)\n",
        "\n",
        "h_c = h_a @ h_b\n",
        "\n"
      ],
      "metadata": {
        "id": "kdTK2TZf5-3p",
        "colab": {
          "base_uri": "https://localhost:8080/"
        },
        "outputId": "059af35b-66ca-498b-bac8-173cc50dc725"
      },
      "execution_count": null,
      "outputs": [
        {
          "output_type": "stream",
          "name": "stdout",
          "text": [
            "45.3 ms ± 914 µs per loop (mean ± std. dev. of 7 runs, 10 loops each)\n"
          ]
        }
      ]
    },
    {
      "cell_type": "code",
      "source": [
        "%%writefile hello.cu\n",
        "\n",
        "#include <stdio.h>\n",
        "#include <iostream>\n",
        "\n",
        "__global__ void helloKernel() {\n",
        "    int tid = threadIdx.x;\n",
        "    printf(\"I am thread #%d\\n\", tid);\n",
        "}\n",
        "\n",
        "__global__ void Init(float* d_a) {\n",
        "    int tid = threadIdx.x + blockIdx.x * blockDim.x;\n",
        "    d_a[tid] = tid;\n",
        "}\n",
        "\n",
        "__global__ void Square(float* d_a) {\n",
        "    int tid = threadIdx.x + blockIdx.x * blockDim.x;\n",
        "    d_a[tid] = d_a[tid] * d_a[tid];\n",
        "}\n",
        "\n",
        "int main() {\n",
        "\n",
        "    float* d_a;\n",
        "    cudaMallocManaged(&d_a, 64 * sizeof(float));\n",
        "\n",
        "    Init<<<2, 32>>>(d_a);\n",
        "    Square<<<2, 32>>>(d_a);\n",
        "    cudaDeviceSynchronize();\n",
        "\n",
        "    for(auto i = 0; i<32; ++i)\n",
        "        std::cout << d_a[i] << std::endl;\n",
        "\n",
        "    cudaFree(d_a);\n",
        "    return 0;\n",
        "}"
      ],
      "metadata": {
        "colab": {
          "base_uri": "https://localhost:8080/"
        },
        "id": "kUDBiCiJDXeR",
        "outputId": "4be1113f-5679-4ed6-b887-00d18998fdce"
      },
      "execution_count": null,
      "outputs": [
        {
          "output_type": "stream",
          "name": "stdout",
          "text": [
            "Overwriting hello.cu\n"
          ]
        }
      ]
    },
    {
      "cell_type": "code",
      "source": [
        "!nvcc hello.cu -o test"
      ],
      "metadata": {
        "id": "p961Rr7eEXVi"
      },
      "execution_count": null,
      "outputs": []
    },
    {
      "cell_type": "code",
      "source": [
        "!./test"
      ],
      "metadata": {
        "colab": {
          "base_uri": "https://localhost:8080/"
        },
        "id": "-p5o2dDvEbYs",
        "outputId": "72adab1b-27ee-4312-c470-c7e3bf32c74a"
      },
      "execution_count": null,
      "outputs": [
        {
          "output_type": "stream",
          "name": "stdout",
          "text": [
            "0\n",
            "1\n",
            "4\n",
            "9\n",
            "16\n",
            "25\n",
            "36\n",
            "49\n",
            "64\n",
            "81\n",
            "100\n",
            "121\n",
            "144\n",
            "169\n",
            "196\n",
            "225\n",
            "256\n",
            "289\n",
            "324\n",
            "361\n",
            "400\n",
            "441\n",
            "484\n",
            "529\n",
            "576\n",
            "625\n",
            "676\n",
            "729\n",
            "784\n",
            "841\n",
            "900\n",
            "961\n"
          ]
        }
      ]
    },
    {
      "cell_type": "code",
      "source": [
        "square = cp.ElementwiseKernel(\n",
        "   'float32 x',\n",
        "   'float32 y',\n",
        "   'y = x * x + 5',\n",
        "   'square')"
      ],
      "metadata": {
        "id": "6Vdu7PS6Eg1G"
      },
      "execution_count": null,
      "outputs": []
    },
    {
      "cell_type": "code",
      "source": [
        "d_x = cp.linspace(0, 32, 32, dtype=cp.float32, endpoint=False)\n",
        "\n",
        "d_y = square(d_x)\n"
      ],
      "metadata": {
        "id": "vmkL_mg4Gif0"
      },
      "execution_count": null,
      "outputs": []
    },
    {
      "cell_type": "code",
      "source": [
        "print(d_y)"
      ],
      "metadata": {
        "colab": {
          "base_uri": "https://localhost:8080/"
        },
        "id": "qHRViQRcGkCa",
        "outputId": "34e7adfb-6646-4023-9d58-7330647d149f"
      },
      "execution_count": null,
      "outputs": [
        {
          "output_type": "stream",
          "name": "stdout",
          "text": [
            "[  5.   6.   9.  14.  21.  30.  41.  54.  69.  86. 105. 126. 149. 174.\n",
            " 201. 230. 261. 294. 329. 366. 405. 446. 489. 534. 581. 630. 681. 734.\n",
            " 789. 846. 905. 966.]\n"
          ]
        }
      ]
    },
    {
      "cell_type": "code",
      "source": [
        "#generic kernel\n",
        "square = cp.ElementwiseKernel(\n",
        "   'T x',\n",
        "   'T y',\n",
        "   'y = x * x + 5',\n",
        "   'square')"
      ],
      "metadata": {
        "id": "7qXgI5wwG0JB"
      },
      "execution_count": null,
      "outputs": []
    },
    {
      "cell_type": "code",
      "source": [
        "d_x = cp.linspace(0, 32, 32, dtype=cp.int32, endpoint=False)\n",
        "d_y = square(d_x)"
      ],
      "metadata": {
        "id": "OF3zWn8cHJ9r"
      },
      "execution_count": null,
      "outputs": []
    },
    {
      "cell_type": "code",
      "source": [
        "d_y"
      ],
      "metadata": {
        "colab": {
          "base_uri": "https://localhost:8080/"
        },
        "id": "ACNbNejeH5Nm",
        "outputId": "6ece3dbf-8703-49e8-ddff-74c141592309"
      },
      "execution_count": null,
      "outputs": [
        {
          "output_type": "execute_result",
          "data": {
            "text/plain": [
              "array([  5,   6,   9,  14,  21,  30,  41,  54,  69,  86, 105, 126, 149,\n",
              "       174, 201, 230, 261, 294, 329, 366, 405, 446, 489, 534, 581, 630,\n",
              "       681, 734, 789, 846, 905, 966], dtype=int32)"
            ]
          },
          "metadata": {},
          "execution_count": 22
        }
      ]
    },
    {
      "cell_type": "code",
      "source": [
        "# https://docs.cupy.dev/en/stable/user_guide/kernel.html"
      ],
      "metadata": {
        "id": "P8tR2G7MH8g8"
      },
      "execution_count": null,
      "outputs": []
    },
    {
      "cell_type": "code",
      "source": [
        "add_kernel = cp.RawKernel(r'''\n",
        "extern \"C\" __global__\n",
        "void my_add(const float* x1, const float* x2, float* y) {\n",
        "    int tid = blockDim.x * blockIdx.x + threadIdx.x;\n",
        "    y[tid] = x1[tid] + x2[tid];\n",
        "}\n",
        "''', 'my_add')"
      ],
      "metadata": {
        "id": "rod_4gTTJEck"
      },
      "execution_count": null,
      "outputs": []
    },
    {
      "cell_type": "code",
      "source": [
        "d_x = cp.linspace(0, 64, 64, dtype=cp.float32, endpoint=False)\n",
        "d_y = cp.linspace(0, 64, 64, dtype=cp.float32, endpoint=False)\n",
        "d_z = cp.empty_like(d_x)\n",
        "\n",
        "add_kernel((1,1,2), (16,2,1), (d_x, d_y, d_z)) #first arg - blocks; second arg - threads"
      ],
      "metadata": {
        "id": "GLKDlvN5Jcp-"
      },
      "execution_count": null,
      "outputs": []
    },
    {
      "cell_type": "code",
      "source": [
        "d_z"
      ],
      "metadata": {
        "colab": {
          "base_uri": "https://localhost:8080/"
        },
        "id": "LymeCfIRJh8p",
        "outputId": "d3a7d1ef-d10f-4ee8-c2b5-5907ecec5fa8"
      },
      "execution_count": null,
      "outputs": [
        {
          "output_type": "execute_result",
          "data": {
            "text/plain": [
              "array([ 0.      ,  2.      ,  4.      ,  6.      ,  8.      , 10.      ,\n",
              "       12.      , 14.      , 16.      , 18.      , 20.      , 22.      ,\n",
              "       24.      , 26.      , 28.      , 30.      ,  0.      ,  2.5     ,\n",
              "        0.      ,  2.53125 ,  0.      ,  2.5625  ,  0.      ,  2.59375 ,\n",
              "        0.      ,  2.625   ,  0.      ,  2.65625 ,  0.      ,  2.6875  ,\n",
              "        0.      ,  2.71875 ,  0.      ,  2.75    ,  0.      ,  2.765625,\n",
              "        0.      ,  2.78125 ,  0.      ,  2.796875,  0.      ,  2.8125  ,\n",
              "        0.      ,  2.828125,  0.      ,  2.84375 ,  0.      ,  2.859375,\n",
              "        0.      ,  2.875   ,  0.      ,  2.890625,  0.      ,  2.90625 ,\n",
              "        0.      ,  2.921875,  0.      ,  2.9375  ,  0.      ,  2.953125,\n",
              "        0.      ,  2.96875 ,  0.      ,  2.984375], dtype=float32)"
            ]
          },
          "metadata": {},
          "execution_count": 27
        }
      ]
    },
    {
      "cell_type": "code",
      "source": [
        "# on your own laptop\n",
        "# 1. install cuda\n",
        "# 2. pip install cupy-cuda116  (?)\n",
        "# or conda install ...\n"
      ],
      "metadata": {
        "id": "_PVKstJwJ1jo"
      },
      "execution_count": null,
      "outputs": []
    },
    {
      "cell_type": "code",
      "source": [
        "#d_a = cp.ones(128, dtype = cp.uint8)\n",
        "d_a = cp.linspace(0,1, 128, dtype = cp.float32)\n",
        "d_a = cp.random.rand(128).astype(cp.float32)\n",
        "d_b = cp.zeros(128, dtype = cp.float32)"
      ],
      "metadata": {
        "id": "8qTo-lSpx703"
      },
      "execution_count": null,
      "outputs": []
    },
    {
      "cell_type": "code",
      "source": [
        "from cupyx import jit\n",
        "\n",
        "@jit.rawkernel()\n",
        "def my_kernel(d_a, d_b, size):\n",
        "    global_block_index = jit.blockIdx.x + \\\n",
        "                         jit.blockIdx.y * jit.gridDim.x + \\\n",
        "                         jit.blockIdx.z * jit.gridDim.x * jit.gridDim.y\n",
        "\n",
        "    tid_in_block = jit.threadIdx.x + \\\n",
        "                   jit.threadIdx.y * jit.blockDim.x + \\\n",
        "                   jit.threadIdx.z * jit.blockDim.x * jit.blockDim.y\n",
        "\n",
        "    gid = tid_in_block + global_block_index * \\\n",
        "                         jit.blockDim.x * jit.blockDim.y * jit.blockDim.z\n",
        "\n",
        "    if gid > 0 and gid < size-1:\n",
        "        d_b[gid] = 1/3 * (d_a[gid-1] + d_a[gid] + d_a[gid+1])\n",
        "    elif gid == 0:\n",
        "        d_b[gid] = 0.5 * (d_a[gid] + d_a[gid+1])\n",
        "    else:\n",
        "        d_b[gid] = 0.5 * (d_a[gid] + d_a[gid-1])\n",
        "\n",
        "\n"
      ],
      "metadata": {
        "id": "v5tMzJuByThe"
      },
      "execution_count": null,
      "outputs": []
    },
    {
      "cell_type": "code",
      "source": [
        "my_kernel((1,1,1), (128,1,1), (d_a, d_b, 128))"
      ],
      "metadata": {
        "id": "LER1-WUzyWUY"
      },
      "execution_count": null,
      "outputs": []
    },
    {
      "cell_type": "code",
      "source": [
        "import matplotlib.pyplot as plt"
      ],
      "metadata": {
        "id": "rbnK8__fysH9"
      },
      "execution_count": null,
      "outputs": []
    },
    {
      "cell_type": "code",
      "source": [
        "plt.plot(d_a.get())\n",
        "plt.plot(d_b.get())"
      ],
      "metadata": {
        "colab": {
          "base_uri": "https://localhost:8080/",
          "height": 448
        },
        "id": "5K6mwWbM1v-Q",
        "outputId": "2cdec24b-7936-44b4-dd5a-27a340a38d8b"
      },
      "execution_count": null,
      "outputs": [
        {
          "output_type": "execute_result",
          "data": {
            "text/plain": [
              "[<matplotlib.lines.Line2D at 0x7bb193503a60>]"
            ]
          },
          "metadata": {},
          "execution_count": 78
        },
        {
          "output_type": "display_data",
          "data": {
            "text/plain": [
              "<Figure size 640x480 with 1 Axes>"
            ],
            "image/png": "[encoded data removed]"
          },
          "metadata": {}
        }
      ]
    },
    {
      "cell_type": "code",
      "source": [],
      "metadata": {
        "id": "xj-Gs98h-wI3"
      },
      "execution_count": null,
      "outputs": []
    }
  ]
}