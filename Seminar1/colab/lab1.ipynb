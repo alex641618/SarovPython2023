{
  "cells": [
    {
      "cell_type": "markdown",
      "metadata": {
        "id": "view-in-github",
        "colab_type": "text"
      },
      "source": [
        "<a href=\"https://colab.research.google.com/gist/alex641618/68737a0446933afe8eebdf8dc0e4450a/lab1.ipynb\" target=\"_parent\"><img src=\"https://colab.research.google.com/assets/colab-badge.svg\" alt=\"Open In Colab\"/></a>"
      ]
    },
    {
      "cell_type": "markdown",
      "metadata": {
        "id": "sq8e87vwyCXm"
      },
      "source": [
        "SarovPython2023\n",
        "===============\n",
        "\n",
        "Seminar 1.\n",
        "---------\n",
        "\n",
        "Where to get help:\n",
        "\n",
        "https://docs.python.org/3/\n",
        "\n",
        "https://docs.python.org/3/tutorial/index.html\n",
        "\n",
        "https://stackoverflow.com/\n",
        "\n",
        "Nice lectures (in Russian, 2015):\n",
        "\n",
        "https://www.youtube.com/playlist?list=PLlb7e2G7aSpTTNp7HBYzCBByaE1h54ruW\n",
        "\n",
        "Code styling guidelines (optional, but will help you to write readable code):\n",
        "https://peps.python.org/pep-0008/\n",
        "\n",
        "Must have skills (strong IMHO):\n",
        "-------\n",
        "\n",
        "1. Python\n",
        "2. git\n",
        "3. Basics of algorithms and datastructures\n",
        "4. Basics of numerical methods (finite differencing, methods for solving PDEs etc)\n",
        "5. Basics of computer architecture"
      ]
    },
    {
      "cell_type": "markdown",
      "source": [
        "https://t.me/+0ucUpElEFAw4Mzhi"
      ],
      "metadata": {
        "id": "inaoMOSqyDiH"
      }
    },
    {
      "cell_type": "markdown",
      "metadata": {
        "id": "1r00F07gyCXo"
      },
      "source": [
        "Задание 1.\n",
        "------\n",
        "\n",
        "Напишите функцию, которая принимает строку и возвращает ее повторение n раз.\n",
        "\n",
        "пример:\n",
        "```python\n",
        "def string_multiplier(text, n):\n",
        "    your implementation\n",
        "```\n",
        "```\n",
        "In: string_multiplier('hello', 2)\n",
        "Out: hellohello\n",
        "```"
      ]
    },
    {
      "cell_type": "markdown",
      "metadata": {
        "id": "LwaxO2kbyCXp"
      },
      "source": [
        "Задание 2.\n",
        "------\n",
        "\n",
        "Напишите функцию, которая принимает число (int) и\n",
        "возвращает его повторение n раз именно как число\n",
        "\n",
        "пример:\n",
        "```python\n",
        "def number_repeater(number, n):\n",
        "    your implementation\n",
        "```\n",
        "```\n",
        "In: number_repeater(123, 2)\n",
        "Out: 123123\n",
        "```\n",
        "\n",
        "Задание со звездочкой (*необязательное, но довольно полезное для будущего*):\n",
        "проверить, что число целое. Если нет, выдать сообщение `\"Provide an integer number\"`."
      ]
    },
    {
      "cell_type": "code",
      "execution_count": null,
      "metadata": {
        "id": "lAe1eefLyCXp"
      },
      "outputs": [],
      "source": []
    },
    {
      "cell_type": "markdown",
      "metadata": {
        "id": "hCo2UDfYyCXq"
      },
      "source": [
        "Задание 3.\n",
        "--------\n",
        "\n",
        "* Сгенерировать лист четных чисел от 0 до 99 (включительно).\n",
        "* Напечатать этот лист с конца до начала (98, 96 ..., 0)\n",
        "* Записать этот лист на диск в формате `comma separated values (csv)`\n",
        "* Записать этот лист на диск в формате `binary` (аналог fwrite в C)\n",
        "* Записать этот лист на диск в формате `pickle`\n",
        "* Считать лист с диска в другую переменную в каждом из случаев, убедиться, что значения равны значениям\n",
        "в исходном листе\n",
        "* Конвертировать лист в `numpy ndarray`, обозначить, например, `x`\n",
        "* Создать еще один `ndarray` `y` равный квадрату исходного листа\n",
        "* Нарисовать график `y(x)`, обозначить оси (любые названия, главное, чтобы они были)\n",
        "* Сделать размер шрифта названий осей равным 16\n",
        "* Выбрать отметки на оси x пропорциональными 10 (отчеты 0, 10, 20, 30, 40...)\n",
        "* Размер шрифта цифр на осях сделать равным 14\n",
        "* Сохранить график на диск в форматах png и pdf, задать разрешение равное 150ppi\n",
        "\n",
        "Подсказка:\n",
        "* если что-то не знаете - yandex или google помогают.\n",
        "* можно подсматривать решение у коллег - главное, чтобы вы умели делать основные вещи"
      ]
    },
    {
      "cell_type": "code",
      "execution_count": null,
      "metadata": {
        "id": "QfwsRQyxyCXr"
      },
      "outputs": [],
      "source": []
    },
    {
      "cell_type": "code",
      "execution_count": null,
      "metadata": {
        "id": "UdUgnsz2yCXr"
      },
      "outputs": [],
      "source": [
        "import numpy as np\n",
        "import matplotlib.pyplot as plt"
      ]
    },
    {
      "cell_type": "code",
      "execution_count": null,
      "metadata": {
        "id": "VHY6syT4yCXs"
      },
      "outputs": [],
      "source": []
    },
    {
      "cell_type": "code",
      "execution_count": null,
      "metadata": {
        "id": "aBmxF0fvyCXt"
      },
      "outputs": [],
      "source": []
    },
    {
      "cell_type": "markdown",
      "metadata": {
        "id": "AeXaauIjyCXu"
      },
      "source": [
        "Задание 4\n",
        "------\n",
        "(Использовать `numpy` и `matplotlib`)\n",
        "\n",
        "* Сгенерировать матрицу N x N случайных чисел (убедитесь, что понимаете как генерировать разные распределения, но будет достаточно сгенерировать равномерно распределенные числа от 0 до 1)\n",
        "* Найти максимальное значение\n",
        "* Нарисовать матрицу (например, `plt.imshow`) и обозначить на графике положение точки с максимальным значением\n",
        "* Считаем, что матрица N x N является отображением области (0, 1) (x) (0, 1) м^2. Обозначить оси, обозначить на графике элемент матрицы с координатами, наиболее близкими к (0.5м, 0.2м)\n",
        "* На отдельном графике нарисовать график матрицы, где все элементы вне круга с центром в (0.5м,0.5м) и радиусом (0.25м) зануляются."
      ]
    },
    {
      "cell_type": "markdown",
      "metadata": {
        "id": "N9taWNdRyCXu"
      },
      "source": [
        "Задание 5\n",
        "------\n",
        "\n",
        "Задан сигнал $y=y(t)$. Сделать преобразование Фурье (БПФ, fft)\n",
        "\n",
        "* Нарисовать сигнал от времени, обозначить оси.\n",
        "* Нарисовать энергетический спектр, пик сигнала должен соответствовать частоте равной 1.\n",
        "\n",
        "Задано, например:\n",
        "```python\n",
        "grid_min = -20 * 2 * np.pi\n",
        "grid_max = 20 * 2 * np.pi\n",
        "duration = 5 * np.pi\n",
        "\n",
        "t = np.linspace(-20 * 2 * np.pi, 20 * 2 * np.pi, 1000)\n",
        "y = np.exp(-t**2 / 2 / duration**2) * np.sin(t)\n",
        "\n",
        "plt.plot(t,y)\n",
        "```"
      ]
    },
    {
      "cell_type": "markdown",
      "metadata": {
        "id": "g148pMm2yCXu"
      },
      "source": [
        "Задание 6\n",
        "----------\n",
        "\n",
        "Задано $N=3$.\n",
        "\n",
        "В цикле по `n` от 0 до N (не включая):\n",
        "* создать директорию `data_n`.\n",
        "* Создать словарь (dictionary) с ключом `number` и значением `n`\n",
        "* Записать этот словарь как `json` в директорию `data_n` под именем `config.json`"
      ]
    },
    {
      "cell_type": "markdown",
      "metadata": {
        "id": "J7dxiSM9yCXv"
      },
      "source": [
        "Задание 7\n",
        "-------\n",
        "\n",
        "Создать класс `EyeMatrix`.\n",
        "* Конструктор берет значение `n`, которое по умолчанию равно 10.\n",
        "* В контрукторе создается единичная матрица `n x n`\n",
        "* В классе создать метод отрисовки матрицы с помощью `imshow`\n",
        "* В классе создать метод обнуления матрицы\n",
        "* В классе создать метод вывода (`print`) следа матрицы"
      ]
    },
    {
      "cell_type": "code",
      "execution_count": null,
      "metadata": {
        "id": "UfFWQYwryCXv"
      },
      "outputs": [],
      "source": []
    }
  ],
  "metadata": {
    "kernelspec": {
      "display_name": "Python 3",
      "language": "python",
      "name": "python3"
    },
    "language_info": {
      "codemirror_mode": {
        "name": "ipython",
        "version": 3
      },
      "file_extension": ".py",
      "mimetype": "text/x-python",
      "name": "python",
      "nbconvert_exporter": "python",
      "pygments_lexer": "ipython3",
      "version": "3.7.4"
    },
    "colab": {
      "provenance": [],
      "include_colab_link": true
    }
  },
  "nbformat": 4,
  "nbformat_minor": 0
}